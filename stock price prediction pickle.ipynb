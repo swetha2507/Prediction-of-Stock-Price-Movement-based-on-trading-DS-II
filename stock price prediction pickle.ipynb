{
 "cells": [
  {
   "cell_type": "code",
   "execution_count": 1,
   "metadata": {
    "executionInfo": {
     "elapsed": 477,
     "status": "ok",
     "timestamp": 1623952080760,
     "user": {
      "displayName": "abhishek sharma",
      "photoUrl": "https://lh3.googleusercontent.com/a-/AOh14GjnrxUa1ihLAGy0WbVku6ClyyAnQ2GApleXBVJ4=s64",
      "userId": "11200093688168956717"
     },
     "user_tz": 420
    },
    "id": "NjRhJ-573r8g"
   },
   "outputs": [],
   "source": [
    "import pandas as pd    #importing necessary libraries\n",
    "import numpy as np"
   ]
  },
  {
   "cell_type": "code",
   "execution_count": 2,
   "metadata": {
    "executionInfo": {
     "elapsed": 583,
     "status": "ok",
     "timestamp": 1623952082348,
     "user": {
      "displayName": "abhishek sharma",
      "photoUrl": "https://lh3.googleusercontent.com/a-/AOh14GjnrxUa1ihLAGy0WbVku6ClyyAnQ2GApleXBVJ4=s64",
      "userId": "11200093688168956717"
     },
     "user_tz": 420
    },
    "id": "oRsvsMmCqDkV"
   },
   "outputs": [],
   "source": [
    "import os\n",
    "os.chdir(r'/Users/apple/Documents/GitHub/Prediction-of-Stock-Price-Movement-based-on-trading-DS-II/Datasets')"
   ]
  },
  {
   "cell_type": "code",
   "execution_count": 3,
   "metadata": {
    "colab": {
     "base_uri": "https://localhost:8080/",
     "height": 221
    },
    "executionInfo": {
     "elapsed": 801,
     "status": "ok",
     "timestamp": 1623952121782,
     "user": {
      "displayName": "abhishek sharma",
      "photoUrl": "https://lh3.googleusercontent.com/a-/AOh14GjnrxUa1ihLAGy0WbVku6ClyyAnQ2GApleXBVJ4=s64",
      "userId": "11200093688168956717"
     },
     "user_tz": 420
    },
    "id": "A-dRovU43r8m",
    "outputId": "aab6d2d6-7730-4960-e3a1-74f36e18c6ef"
   },
   "outputs": [
    {
     "name": "stdout",
     "output_type": "stream",
     "text": [
      "(22805, 8)\n"
     ]
    },
    {
     "data": {
      "text/html": [
       "<div>\n",
       "<style scoped>\n",
       "    .dataframe tbody tr th:only-of-type {\n",
       "        vertical-align: middle;\n",
       "    }\n",
       "\n",
       "    .dataframe tbody tr th {\n",
       "        vertical-align: top;\n",
       "    }\n",
       "\n",
       "    .dataframe thead th {\n",
       "        text-align: right;\n",
       "    }\n",
       "</style>\n",
       "<table border=\"1\" class=\"dataframe\">\n",
       "  <thead>\n",
       "    <tr style=\"text-align: right;\">\n",
       "      <th></th>\n",
       "      <th>Type</th>\n",
       "      <th>Date</th>\n",
       "      <th>Time</th>\n",
       "      <th>open</th>\n",
       "      <th>high</th>\n",
       "      <th>low</th>\n",
       "      <th>close</th>\n",
       "      <th>Unnamed: 7</th>\n",
       "    </tr>\n",
       "  </thead>\n",
       "  <tbody>\n",
       "    <tr>\n",
       "      <th>0</th>\n",
       "      <td>NIFTY</td>\n",
       "      <td>20210101</td>\n",
       "      <td>09:16</td>\n",
       "      <td>13997.90</td>\n",
       "      <td>14020.85</td>\n",
       "      <td>13991.35</td>\n",
       "      <td>14013.15</td>\n",
       "      <td>NaN</td>\n",
       "    </tr>\n",
       "    <tr>\n",
       "      <th>1</th>\n",
       "      <td>NIFTY</td>\n",
       "      <td>20210101</td>\n",
       "      <td>09:17</td>\n",
       "      <td>14014.85</td>\n",
       "      <td>14018.55</td>\n",
       "      <td>14008.15</td>\n",
       "      <td>14009.05</td>\n",
       "      <td>NaN</td>\n",
       "    </tr>\n",
       "    <tr>\n",
       "      <th>2</th>\n",
       "      <td>NIFTY</td>\n",
       "      <td>20210101</td>\n",
       "      <td>09:18</td>\n",
       "      <td>14008.05</td>\n",
       "      <td>14013.10</td>\n",
       "      <td>14005.05</td>\n",
       "      <td>14012.70</td>\n",
       "      <td>NaN</td>\n",
       "    </tr>\n",
       "    <tr>\n",
       "      <th>3</th>\n",
       "      <td>NIFTY</td>\n",
       "      <td>20210101</td>\n",
       "      <td>09:19</td>\n",
       "      <td>14013.65</td>\n",
       "      <td>14019.10</td>\n",
       "      <td>14013.65</td>\n",
       "      <td>14016.20</td>\n",
       "      <td>NaN</td>\n",
       "    </tr>\n",
       "    <tr>\n",
       "      <th>4</th>\n",
       "      <td>NIFTY</td>\n",
       "      <td>20210101</td>\n",
       "      <td>09:20</td>\n",
       "      <td>14015.45</td>\n",
       "      <td>14017.80</td>\n",
       "      <td>14011.95</td>\n",
       "      <td>14015.45</td>\n",
       "      <td>NaN</td>\n",
       "    </tr>\n",
       "  </tbody>\n",
       "</table>\n",
       "</div>"
      ],
      "text/plain": [
       "    Type      Date   Time      open      high       low     close  Unnamed: 7\n",
       "0  NIFTY  20210101  09:16  13997.90  14020.85  13991.35  14013.15         NaN\n",
       "1  NIFTY  20210101  09:17  14014.85  14018.55  14008.15  14009.05         NaN\n",
       "2  NIFTY  20210101  09:18  14008.05  14013.10  14005.05  14012.70         NaN\n",
       "3  NIFTY  20210101  09:19  14013.65  14019.10  14013.65  14016.20         NaN\n",
       "4  NIFTY  20210101  09:20  14015.45  14017.80  14011.95  14015.45         NaN"
      ]
     },
     "execution_count": 3,
     "metadata": {},
     "output_type": "execute_result"
    }
   ],
   "source": [
    "data = pd.read_csv('DataFrame.csv')      #Reading csv file and creating DataFrame\n",
    "print(data.shape)\n",
    "data.head()"
   ]
  },
  {
   "cell_type": "code",
   "execution_count": 4,
   "metadata": {
    "executionInfo": {
     "elapsed": 54,
     "status": "ok",
     "timestamp": 1623952121787,
     "user": {
      "displayName": "abhishek sharma",
      "photoUrl": "https://lh3.googleusercontent.com/a-/AOh14GjnrxUa1ihLAGy0WbVku6ClyyAnQ2GApleXBVJ4=s64",
      "userId": "11200093688168956717"
     },
     "user_tz": 420
    },
    "id": "FLzCWg_g3r8q"
   },
   "outputs": [],
   "source": [
    "data.drop('Unnamed: 7' , axis = 1 , inplace = True)   #Dropping unnecessary Column:-> Unnamed: 7"
   ]
  },
  {
   "cell_type": "code",
   "execution_count": 5,
   "metadata": {
    "executionInfo": {
     "elapsed": 60,
     "status": "ok",
     "timestamp": 1623952121795,
     "user": {
      "displayName": "abhishek sharma",
      "photoUrl": "https://lh3.googleusercontent.com/a-/AOh14GjnrxUa1ihLAGy0WbVku6ClyyAnQ2GApleXBVJ4=s64",
      "userId": "11200093688168956717"
     },
     "user_tz": 420
    },
    "id": "uCSRAwj_3r8r"
   },
   "outputs": [],
   "source": [
    "data.rename(columns = str.upper , inplace = True)"
   ]
  },
  {
   "cell_type": "code",
   "execution_count": 6,
   "metadata": {
    "colab": {
     "base_uri": "https://localhost:8080/",
     "height": 419
    },
    "executionInfo": {
     "elapsed": 61,
     "status": "ok",
     "timestamp": 1623952121798,
     "user": {
      "displayName": "abhishek sharma",
      "photoUrl": "https://lh3.googleusercontent.com/a-/AOh14GjnrxUa1ihLAGy0WbVku6ClyyAnQ2GApleXBVJ4=s64",
      "userId": "11200093688168956717"
     },
     "user_tz": 420
    },
    "id": "WKlfXbvG3r8s",
    "outputId": "d82f36da-95de-4867-e94d-88d5fac22a49"
   },
   "outputs": [
    {
     "data": {
      "text/html": [
       "<div>\n",
       "<style scoped>\n",
       "    .dataframe tbody tr th:only-of-type {\n",
       "        vertical-align: middle;\n",
       "    }\n",
       "\n",
       "    .dataframe tbody tr th {\n",
       "        vertical-align: top;\n",
       "    }\n",
       "\n",
       "    .dataframe thead th {\n",
       "        text-align: right;\n",
       "    }\n",
       "</style>\n",
       "<table border=\"1\" class=\"dataframe\">\n",
       "  <thead>\n",
       "    <tr style=\"text-align: right;\">\n",
       "      <th></th>\n",
       "      <th>TYPE</th>\n",
       "      <th>DATE</th>\n",
       "      <th>TIME</th>\n",
       "      <th>OPEN</th>\n",
       "      <th>HIGH</th>\n",
       "      <th>LOW</th>\n",
       "      <th>CLOSE</th>\n",
       "    </tr>\n",
       "  </thead>\n",
       "  <tbody>\n",
       "    <tr>\n",
       "      <th>0</th>\n",
       "      <td>NIFTY</td>\n",
       "      <td>20210101</td>\n",
       "      <td>09:16</td>\n",
       "      <td>13997.90</td>\n",
       "      <td>14020.85</td>\n",
       "      <td>13991.35</td>\n",
       "      <td>14013.15</td>\n",
       "    </tr>\n",
       "    <tr>\n",
       "      <th>1</th>\n",
       "      <td>NIFTY</td>\n",
       "      <td>20210101</td>\n",
       "      <td>09:17</td>\n",
       "      <td>14014.85</td>\n",
       "      <td>14018.55</td>\n",
       "      <td>14008.15</td>\n",
       "      <td>14009.05</td>\n",
       "    </tr>\n",
       "    <tr>\n",
       "      <th>2</th>\n",
       "      <td>NIFTY</td>\n",
       "      <td>20210101</td>\n",
       "      <td>09:18</td>\n",
       "      <td>14008.05</td>\n",
       "      <td>14013.10</td>\n",
       "      <td>14005.05</td>\n",
       "      <td>14012.70</td>\n",
       "    </tr>\n",
       "    <tr>\n",
       "      <th>3</th>\n",
       "      <td>NIFTY</td>\n",
       "      <td>20210101</td>\n",
       "      <td>09:19</td>\n",
       "      <td>14013.65</td>\n",
       "      <td>14019.10</td>\n",
       "      <td>14013.65</td>\n",
       "      <td>14016.20</td>\n",
       "    </tr>\n",
       "    <tr>\n",
       "      <th>4</th>\n",
       "      <td>NIFTY</td>\n",
       "      <td>20210101</td>\n",
       "      <td>09:20</td>\n",
       "      <td>14015.45</td>\n",
       "      <td>14017.80</td>\n",
       "      <td>14011.95</td>\n",
       "      <td>14015.45</td>\n",
       "    </tr>\n",
       "    <tr>\n",
       "      <th>...</th>\n",
       "      <td>...</td>\n",
       "      <td>...</td>\n",
       "      <td>...</td>\n",
       "      <td>...</td>\n",
       "      <td>...</td>\n",
       "      <td>...</td>\n",
       "      <td>...</td>\n",
       "    </tr>\n",
       "    <tr>\n",
       "      <th>22800</th>\n",
       "      <td>NIFTY</td>\n",
       "      <td>20210331</td>\n",
       "      <td>15:27</td>\n",
       "      <td>14687.35</td>\n",
       "      <td>14694.35</td>\n",
       "      <td>14686.30</td>\n",
       "      <td>14690.60</td>\n",
       "    </tr>\n",
       "    <tr>\n",
       "      <th>22801</th>\n",
       "      <td>NIFTY</td>\n",
       "      <td>20210331</td>\n",
       "      <td>15:28</td>\n",
       "      <td>14690.90</td>\n",
       "      <td>14690.90</td>\n",
       "      <td>14686.05</td>\n",
       "      <td>14689.30</td>\n",
       "    </tr>\n",
       "    <tr>\n",
       "      <th>22802</th>\n",
       "      <td>NIFTY</td>\n",
       "      <td>20210331</td>\n",
       "      <td>15:29</td>\n",
       "      <td>14690.30</td>\n",
       "      <td>14694.10</td>\n",
       "      <td>14688.55</td>\n",
       "      <td>14691.30</td>\n",
       "    </tr>\n",
       "    <tr>\n",
       "      <th>22803</th>\n",
       "      <td>NIFTY</td>\n",
       "      <td>20210331</td>\n",
       "      <td>15:30</td>\n",
       "      <td>14689.85</td>\n",
       "      <td>14693.55</td>\n",
       "      <td>14689.45</td>\n",
       "      <td>14693.05</td>\n",
       "    </tr>\n",
       "    <tr>\n",
       "      <th>22804</th>\n",
       "      <td>NIFTY</td>\n",
       "      <td>20210331</td>\n",
       "      <td>15:31</td>\n",
       "      <td>14690.70</td>\n",
       "      <td>14690.70</td>\n",
       "      <td>14690.70</td>\n",
       "      <td>14690.70</td>\n",
       "    </tr>\n",
       "  </tbody>\n",
       "</table>\n",
       "<p>22805 rows × 7 columns</p>\n",
       "</div>"
      ],
      "text/plain": [
       "        TYPE      DATE   TIME      OPEN      HIGH       LOW     CLOSE\n",
       "0      NIFTY  20210101  09:16  13997.90  14020.85  13991.35  14013.15\n",
       "1      NIFTY  20210101  09:17  14014.85  14018.55  14008.15  14009.05\n",
       "2      NIFTY  20210101  09:18  14008.05  14013.10  14005.05  14012.70\n",
       "3      NIFTY  20210101  09:19  14013.65  14019.10  14013.65  14016.20\n",
       "4      NIFTY  20210101  09:20  14015.45  14017.80  14011.95  14015.45\n",
       "...      ...       ...    ...       ...       ...       ...       ...\n",
       "22800  NIFTY  20210331  15:27  14687.35  14694.35  14686.30  14690.60\n",
       "22801  NIFTY  20210331  15:28  14690.90  14690.90  14686.05  14689.30\n",
       "22802  NIFTY  20210331  15:29  14690.30  14694.10  14688.55  14691.30\n",
       "22803  NIFTY  20210331  15:30  14689.85  14693.55  14689.45  14693.05\n",
       "22804  NIFTY  20210331  15:31  14690.70  14690.70  14690.70  14690.70\n",
       "\n",
       "[22805 rows x 7 columns]"
      ]
     },
     "execution_count": 6,
     "metadata": {},
     "output_type": "execute_result"
    }
   ],
   "source": [
    "data"
   ]
  },
  {
   "cell_type": "markdown",
   "metadata": {
    "id": "VD3JAUN23r8t"
   },
   "source": [
    "# CONVERTING STRING INTO DATE TIME SERIES"
   ]
  },
  {
   "cell_type": "code",
   "execution_count": 7,
   "metadata": {
    "executionInfo": {
     "elapsed": 61,
     "status": "ok",
     "timestamp": 1623952121801,
     "user": {
      "displayName": "abhishek sharma",
      "photoUrl": "https://lh3.googleusercontent.com/a-/AOh14GjnrxUa1ihLAGy0WbVku6ClyyAnQ2GApleXBVJ4=s64",
      "userId": "11200093688168956717"
     },
     "user_tz": 420
    },
    "id": "O7UfjCPS3r8u"
   },
   "outputs": [],
   "source": [
    "import datetime\n",
    "data['DATE'] = pd.to_datetime(data['DATE'] , format = \"%Y%m%d\")"
   ]
  },
  {
   "cell_type": "code",
   "execution_count": 8,
   "metadata": {
    "colab": {
     "base_uri": "https://localhost:8080/",
     "height": 204
    },
    "executionInfo": {
     "elapsed": 61,
     "status": "ok",
     "timestamp": 1623952121803,
     "user": {
      "displayName": "abhishek sharma",
      "photoUrl": "https://lh3.googleusercontent.com/a-/AOh14GjnrxUa1ihLAGy0WbVku6ClyyAnQ2GApleXBVJ4=s64",
      "userId": "11200093688168956717"
     },
     "user_tz": 420
    },
    "id": "FuvyQBwV3r8v",
    "outputId": "75c960e3-264f-4dc2-f57b-08c146e31a3a"
   },
   "outputs": [
    {
     "data": {
      "text/html": [
       "<div>\n",
       "<style scoped>\n",
       "    .dataframe tbody tr th:only-of-type {\n",
       "        vertical-align: middle;\n",
       "    }\n",
       "\n",
       "    .dataframe tbody tr th {\n",
       "        vertical-align: top;\n",
       "    }\n",
       "\n",
       "    .dataframe thead th {\n",
       "        text-align: right;\n",
       "    }\n",
       "</style>\n",
       "<table border=\"1\" class=\"dataframe\">\n",
       "  <thead>\n",
       "    <tr style=\"text-align: right;\">\n",
       "      <th></th>\n",
       "      <th>TYPE</th>\n",
       "      <th>DATE</th>\n",
       "      <th>TIME</th>\n",
       "      <th>OPEN</th>\n",
       "      <th>HIGH</th>\n",
       "      <th>LOW</th>\n",
       "      <th>CLOSE</th>\n",
       "    </tr>\n",
       "  </thead>\n",
       "  <tbody>\n",
       "    <tr>\n",
       "      <th>0</th>\n",
       "      <td>NIFTY</td>\n",
       "      <td>2021-01-01</td>\n",
       "      <td>09:16</td>\n",
       "      <td>13997.90</td>\n",
       "      <td>14020.85</td>\n",
       "      <td>13991.35</td>\n",
       "      <td>14013.15</td>\n",
       "    </tr>\n",
       "    <tr>\n",
       "      <th>1</th>\n",
       "      <td>NIFTY</td>\n",
       "      <td>2021-01-01</td>\n",
       "      <td>09:17</td>\n",
       "      <td>14014.85</td>\n",
       "      <td>14018.55</td>\n",
       "      <td>14008.15</td>\n",
       "      <td>14009.05</td>\n",
       "    </tr>\n",
       "    <tr>\n",
       "      <th>2</th>\n",
       "      <td>NIFTY</td>\n",
       "      <td>2021-01-01</td>\n",
       "      <td>09:18</td>\n",
       "      <td>14008.05</td>\n",
       "      <td>14013.10</td>\n",
       "      <td>14005.05</td>\n",
       "      <td>14012.70</td>\n",
       "    </tr>\n",
       "    <tr>\n",
       "      <th>3</th>\n",
       "      <td>NIFTY</td>\n",
       "      <td>2021-01-01</td>\n",
       "      <td>09:19</td>\n",
       "      <td>14013.65</td>\n",
       "      <td>14019.10</td>\n",
       "      <td>14013.65</td>\n",
       "      <td>14016.20</td>\n",
       "    </tr>\n",
       "    <tr>\n",
       "      <th>4</th>\n",
       "      <td>NIFTY</td>\n",
       "      <td>2021-01-01</td>\n",
       "      <td>09:20</td>\n",
       "      <td>14015.45</td>\n",
       "      <td>14017.80</td>\n",
       "      <td>14011.95</td>\n",
       "      <td>14015.45</td>\n",
       "    </tr>\n",
       "  </tbody>\n",
       "</table>\n",
       "</div>"
      ],
      "text/plain": [
       "    TYPE       DATE   TIME      OPEN      HIGH       LOW     CLOSE\n",
       "0  NIFTY 2021-01-01  09:16  13997.90  14020.85  13991.35  14013.15\n",
       "1  NIFTY 2021-01-01  09:17  14014.85  14018.55  14008.15  14009.05\n",
       "2  NIFTY 2021-01-01  09:18  14008.05  14013.10  14005.05  14012.70\n",
       "3  NIFTY 2021-01-01  09:19  14013.65  14019.10  14013.65  14016.20\n",
       "4  NIFTY 2021-01-01  09:20  14015.45  14017.80  14011.95  14015.45"
      ]
     },
     "execution_count": 8,
     "metadata": {},
     "output_type": "execute_result"
    }
   ],
   "source": [
    "data.head()"
   ]
  },
  {
   "cell_type": "code",
   "execution_count": 9,
   "metadata": {
    "colab": {
     "base_uri": "https://localhost:8080/",
     "height": 297
    },
    "executionInfo": {
     "elapsed": 606,
     "status": "ok",
     "timestamp": 1623952122353,
     "user": {
      "displayName": "abhishek sharma",
      "photoUrl": "https://lh3.googleusercontent.com/a-/AOh14GjnrxUa1ihLAGy0WbVku6ClyyAnQ2GApleXBVJ4=s64",
      "userId": "11200093688168956717"
     },
     "user_tz": 420
    },
    "id": "Q0BEaHXq3r8y",
    "outputId": "fa48f26c-6f21-46f5-a4a8-9de2d22753a9"
   },
   "outputs": [
    {
     "data": {
      "text/html": [
       "<div>\n",
       "<style scoped>\n",
       "    .dataframe tbody tr th:only-of-type {\n",
       "        vertical-align: middle;\n",
       "    }\n",
       "\n",
       "    .dataframe tbody tr th {\n",
       "        vertical-align: top;\n",
       "    }\n",
       "\n",
       "    .dataframe thead th {\n",
       "        text-align: right;\n",
       "    }\n",
       "</style>\n",
       "<table border=\"1\" class=\"dataframe\">\n",
       "  <thead>\n",
       "    <tr style=\"text-align: right;\">\n",
       "      <th></th>\n",
       "      <th>OPEN</th>\n",
       "      <th>HIGH</th>\n",
       "      <th>LOW</th>\n",
       "      <th>CLOSE</th>\n",
       "    </tr>\n",
       "  </thead>\n",
       "  <tbody>\n",
       "    <tr>\n",
       "      <th>count</th>\n",
       "      <td>22805.000000</td>\n",
       "      <td>22805.000000</td>\n",
       "      <td>22805.000000</td>\n",
       "      <td>22805.000000</td>\n",
       "    </tr>\n",
       "    <tr>\n",
       "      <th>mean</th>\n",
       "      <td>14703.322396</td>\n",
       "      <td>14707.486481</td>\n",
       "      <td>14699.102201</td>\n",
       "      <td>14703.260816</td>\n",
       "    </tr>\n",
       "    <tr>\n",
       "      <th>std</th>\n",
       "      <td>391.377498</td>\n",
       "      <td>391.265231</td>\n",
       "      <td>391.551643</td>\n",
       "      <td>391.366248</td>\n",
       "    </tr>\n",
       "    <tr>\n",
       "      <th>min</th>\n",
       "      <td>13604.750000</td>\n",
       "      <td>13614.400000</td>\n",
       "      <td>13596.750000</td>\n",
       "      <td>13602.800000</td>\n",
       "    </tr>\n",
       "    <tr>\n",
       "      <th>25%</th>\n",
       "      <td>14462.250000</td>\n",
       "      <td>14465.950000</td>\n",
       "      <td>14458.050000</td>\n",
       "      <td>14461.950000</td>\n",
       "    </tr>\n",
       "    <tr>\n",
       "      <th>50%</th>\n",
       "      <td>14739.500000</td>\n",
       "      <td>14743.000000</td>\n",
       "      <td>14735.850000</td>\n",
       "      <td>14739.450000</td>\n",
       "    </tr>\n",
       "    <tr>\n",
       "      <th>75%</th>\n",
       "      <td>15037.000000</td>\n",
       "      <td>15041.250000</td>\n",
       "      <td>15032.500000</td>\n",
       "      <td>15036.850000</td>\n",
       "    </tr>\n",
       "    <tr>\n",
       "      <th>max</th>\n",
       "      <td>15429.500000</td>\n",
       "      <td>15431.750000</td>\n",
       "      <td>15427.900000</td>\n",
       "      <td>15430.200000</td>\n",
       "    </tr>\n",
       "  </tbody>\n",
       "</table>\n",
       "</div>"
      ],
      "text/plain": [
       "               OPEN          HIGH           LOW         CLOSE\n",
       "count  22805.000000  22805.000000  22805.000000  22805.000000\n",
       "mean   14703.322396  14707.486481  14699.102201  14703.260816\n",
       "std      391.377498    391.265231    391.551643    391.366248\n",
       "min    13604.750000  13614.400000  13596.750000  13602.800000\n",
       "25%    14462.250000  14465.950000  14458.050000  14461.950000\n",
       "50%    14739.500000  14743.000000  14735.850000  14739.450000\n",
       "75%    15037.000000  15041.250000  15032.500000  15036.850000\n",
       "max    15429.500000  15431.750000  15427.900000  15430.200000"
      ]
     },
     "execution_count": 9,
     "metadata": {},
     "output_type": "execute_result"
    }
   ],
   "source": [
    "data.describe()   #Statistics of the Dataset"
   ]
  },
  {
   "cell_type": "code",
   "execution_count": 10,
   "metadata": {
    "colab": {
     "base_uri": "https://localhost:8080/"
    },
    "executionInfo": {
     "elapsed": 80,
     "status": "ok",
     "timestamp": 1623952122360,
     "user": {
      "displayName": "abhishek sharma",
      "photoUrl": "https://lh3.googleusercontent.com/a-/AOh14GjnrxUa1ihLAGy0WbVku6ClyyAnQ2GApleXBVJ4=s64",
      "userId": "11200093688168956717"
     },
     "user_tz": 420
    },
    "id": "uxRDT7K83r8z",
    "outputId": "149681d0-c9a5-4a9b-8c0c-5cf925e977a4"
   },
   "outputs": [
    {
     "name": "stdout",
     "output_type": "stream",
     "text": [
      "<class 'pandas.core.frame.DataFrame'>\n",
      "RangeIndex: 22805 entries, 0 to 22804\n",
      "Data columns (total 7 columns):\n",
      " #   Column  Non-Null Count  Dtype         \n",
      "---  ------  --------------  -----         \n",
      " 0   TYPE    22805 non-null  object        \n",
      " 1   DATE    22805 non-null  datetime64[ns]\n",
      " 2   TIME    22805 non-null  object        \n",
      " 3   OPEN    22805 non-null  float64       \n",
      " 4   HIGH    22805 non-null  float64       \n",
      " 5   LOW     22805 non-null  float64       \n",
      " 6   CLOSE   22805 non-null  float64       \n",
      "dtypes: datetime64[ns](1), float64(4), object(2)\n",
      "memory usage: 1.2+ MB\n"
     ]
    }
   ],
   "source": [
    "data.info()"
   ]
  },
  {
   "cell_type": "code",
   "execution_count": 11,
   "metadata": {
    "colab": {
     "base_uri": "https://localhost:8080/",
     "height": 49
    },
    "executionInfo": {
     "elapsed": 59,
     "status": "ok",
     "timestamp": 1623952122362,
     "user": {
      "displayName": "abhishek sharma",
      "photoUrl": "https://lh3.googleusercontent.com/a-/AOh14GjnrxUa1ihLAGy0WbVku6ClyyAnQ2GApleXBVJ4=s64",
      "userId": "11200093688168956717"
     },
     "user_tz": 420
    },
    "id": "HHqLZ_m43r81",
    "outputId": "9de5e8f9-3fcf-4cbb-f37f-698081ed9ed5"
   },
   "outputs": [
    {
     "data": {
      "text/html": [
       "<div>\n",
       "<style scoped>\n",
       "    .dataframe tbody tr th:only-of-type {\n",
       "        vertical-align: middle;\n",
       "    }\n",
       "\n",
       "    .dataframe tbody tr th {\n",
       "        vertical-align: top;\n",
       "    }\n",
       "\n",
       "    .dataframe thead th {\n",
       "        text-align: right;\n",
       "    }\n",
       "</style>\n",
       "<table border=\"1\" class=\"dataframe\">\n",
       "  <thead>\n",
       "    <tr style=\"text-align: right;\">\n",
       "      <th></th>\n",
       "      <th>TYPE</th>\n",
       "      <th>DATE</th>\n",
       "      <th>TIME</th>\n",
       "      <th>OPEN</th>\n",
       "      <th>HIGH</th>\n",
       "      <th>LOW</th>\n",
       "      <th>CLOSE</th>\n",
       "    </tr>\n",
       "  </thead>\n",
       "  <tbody>\n",
       "  </tbody>\n",
       "</table>\n",
       "</div>"
      ],
      "text/plain": [
       "Empty DataFrame\n",
       "Columns: [TYPE, DATE, TIME, OPEN, HIGH, LOW, CLOSE]\n",
       "Index: []"
      ]
     },
     "execution_count": 11,
     "metadata": {},
     "output_type": "execute_result"
    }
   ],
   "source": [
    "data[data.duplicated()]       #Checking for the duplicated entries"
   ]
  },
  {
   "cell_type": "markdown",
   "metadata": {
    "id": "cGuTPbTe3r83"
   },
   "source": [
    "# CONSIDERING ANOTHER DATASET"
   ]
  },
  {
   "cell_type": "code",
   "execution_count": 12,
   "metadata": {
    "colab": {
     "base_uri": "https://localhost:8080/",
     "height": 204
    },
    "executionInfo": {
     "elapsed": 57,
     "status": "ok",
     "timestamp": 1623952122367,
     "user": {
      "displayName": "abhishek sharma",
      "photoUrl": "https://lh3.googleusercontent.com/a-/AOh14GjnrxUa1ihLAGy0WbVku6ClyyAnQ2GApleXBVJ4=s64",
      "userId": "11200093688168956717"
     },
     "user_tz": 420
    },
    "id": "p9eZLJhV3r84",
    "outputId": "eb02f260-5128-43b1-9de9-cc6a440617bf"
   },
   "outputs": [
    {
     "data": {
      "text/html": [
       "<div>\n",
       "<style scoped>\n",
       "    .dataframe tbody tr th:only-of-type {\n",
       "        vertical-align: middle;\n",
       "    }\n",
       "\n",
       "    .dataframe tbody tr th {\n",
       "        vertical-align: top;\n",
       "    }\n",
       "\n",
       "    .dataframe thead th {\n",
       "        text-align: right;\n",
       "    }\n",
       "</style>\n",
       "<table border=\"1\" class=\"dataframe\">\n",
       "  <thead>\n",
       "    <tr style=\"text-align: right;\">\n",
       "      <th></th>\n",
       "      <th>Date</th>\n",
       "      <th>Open</th>\n",
       "      <th>High</th>\n",
       "      <th>Low</th>\n",
       "      <th>Close</th>\n",
       "      <th>Adj Close</th>\n",
       "      <th>Volume</th>\n",
       "    </tr>\n",
       "  </thead>\n",
       "  <tbody>\n",
       "    <tr>\n",
       "      <th>0</th>\n",
       "      <td>1986-03-13</td>\n",
       "      <td>0.088542</td>\n",
       "      <td>0.101563</td>\n",
       "      <td>0.088542</td>\n",
       "      <td>0.097222</td>\n",
       "      <td>0.061751</td>\n",
       "      <td>1031788800</td>\n",
       "    </tr>\n",
       "    <tr>\n",
       "      <th>1</th>\n",
       "      <td>1986-03-14</td>\n",
       "      <td>0.097222</td>\n",
       "      <td>0.102431</td>\n",
       "      <td>0.097222</td>\n",
       "      <td>0.100694</td>\n",
       "      <td>0.063956</td>\n",
       "      <td>308160000</td>\n",
       "    </tr>\n",
       "    <tr>\n",
       "      <th>2</th>\n",
       "      <td>1986-03-17</td>\n",
       "      <td>0.100694</td>\n",
       "      <td>0.103299</td>\n",
       "      <td>0.100694</td>\n",
       "      <td>0.102431</td>\n",
       "      <td>0.065059</td>\n",
       "      <td>133171200</td>\n",
       "    </tr>\n",
       "    <tr>\n",
       "      <th>3</th>\n",
       "      <td>1986-03-18</td>\n",
       "      <td>0.102431</td>\n",
       "      <td>0.103299</td>\n",
       "      <td>0.098958</td>\n",
       "      <td>0.099826</td>\n",
       "      <td>0.063405</td>\n",
       "      <td>67766400</td>\n",
       "    </tr>\n",
       "    <tr>\n",
       "      <th>4</th>\n",
       "      <td>1986-03-19</td>\n",
       "      <td>0.099826</td>\n",
       "      <td>0.100694</td>\n",
       "      <td>0.097222</td>\n",
       "      <td>0.098090</td>\n",
       "      <td>0.062302</td>\n",
       "      <td>47894400</td>\n",
       "    </tr>\n",
       "  </tbody>\n",
       "</table>\n",
       "</div>"
      ],
      "text/plain": [
       "         Date      Open      High       Low     Close  Adj Close      Volume\n",
       "0  1986-03-13  0.088542  0.101563  0.088542  0.097222   0.061751  1031788800\n",
       "1  1986-03-14  0.097222  0.102431  0.097222  0.100694   0.063956   308160000\n",
       "2  1986-03-17  0.100694  0.103299  0.100694  0.102431   0.065059   133171200\n",
       "3  1986-03-18  0.102431  0.103299  0.098958  0.099826   0.063405    67766400\n",
       "4  1986-03-19  0.099826  0.100694  0.097222  0.098090   0.062302    47894400"
      ]
     },
     "execution_count": 12,
     "metadata": {},
     "output_type": "execute_result"
    }
   ],
   "source": [
    "df2 = pd.read_csv('MSFT.csv')\n",
    "df2.head()"
   ]
  },
  {
   "cell_type": "code",
   "execution_count": 13,
   "metadata": {},
   "outputs": [],
   "source": [
    "msft=df2.copy()"
   ]
  },
  {
   "cell_type": "code",
   "execution_count": 14,
   "metadata": {
    "executionInfo": {
     "elapsed": 56,
     "status": "ok",
     "timestamp": 1623952122369,
     "user": {
      "displayName": "abhishek sharma",
      "photoUrl": "https://lh3.googleusercontent.com/a-/AOh14GjnrxUa1ihLAGy0WbVku6ClyyAnQ2GApleXBVJ4=s64",
      "userId": "11200093688168956717"
     },
     "user_tz": 420
    },
    "id": "v-s6ikLC3r85"
   },
   "outputs": [],
   "source": [
    "df2.rename(columns = str.upper , inplace = True)"
   ]
  },
  {
   "cell_type": "code",
   "execution_count": 15,
   "metadata": {
    "executionInfo": {
     "elapsed": 56,
     "status": "ok",
     "timestamp": 1623952122371,
     "user": {
      "displayName": "abhishek sharma",
      "photoUrl": "https://lh3.googleusercontent.com/a-/AOh14GjnrxUa1ihLAGy0WbVku6ClyyAnQ2GApleXBVJ4=s64",
      "userId": "11200093688168956717"
     },
     "user_tz": 420
    },
    "id": "DWBbzXhK3r85"
   },
   "outputs": [],
   "source": [
    "df2['DATE'] = pd.to_datetime(df2['DATE'] , format = \"%Y-%m-%d\")"
   ]
  },
  {
   "cell_type": "code",
   "execution_count": 16,
   "metadata": {
    "colab": {
     "base_uri": "https://localhost:8080/",
     "height": 204
    },
    "executionInfo": {
     "elapsed": 57,
     "status": "ok",
     "timestamp": 1623952122374,
     "user": {
      "displayName": "abhishek sharma",
      "photoUrl": "https://lh3.googleusercontent.com/a-/AOh14GjnrxUa1ihLAGy0WbVku6ClyyAnQ2GApleXBVJ4=s64",
      "userId": "11200093688168956717"
     },
     "user_tz": 420
    },
    "id": "5KYU3hn93r86",
    "outputId": "c178209c-86d1-4b95-9e27-5135a537d978"
   },
   "outputs": [
    {
     "data": {
      "text/html": [
       "<div>\n",
       "<style scoped>\n",
       "    .dataframe tbody tr th:only-of-type {\n",
       "        vertical-align: middle;\n",
       "    }\n",
       "\n",
       "    .dataframe tbody tr th {\n",
       "        vertical-align: top;\n",
       "    }\n",
       "\n",
       "    .dataframe thead th {\n",
       "        text-align: right;\n",
       "    }\n",
       "</style>\n",
       "<table border=\"1\" class=\"dataframe\">\n",
       "  <thead>\n",
       "    <tr style=\"text-align: right;\">\n",
       "      <th></th>\n",
       "      <th>DATE</th>\n",
       "      <th>OPEN</th>\n",
       "      <th>HIGH</th>\n",
       "      <th>LOW</th>\n",
       "      <th>CLOSE</th>\n",
       "      <th>ADJ CLOSE</th>\n",
       "      <th>VOLUME</th>\n",
       "    </tr>\n",
       "  </thead>\n",
       "  <tbody>\n",
       "    <tr>\n",
       "      <th>0</th>\n",
       "      <td>1986-03-13</td>\n",
       "      <td>0.088542</td>\n",
       "      <td>0.101563</td>\n",
       "      <td>0.088542</td>\n",
       "      <td>0.097222</td>\n",
       "      <td>0.061751</td>\n",
       "      <td>1031788800</td>\n",
       "    </tr>\n",
       "    <tr>\n",
       "      <th>1</th>\n",
       "      <td>1986-03-14</td>\n",
       "      <td>0.097222</td>\n",
       "      <td>0.102431</td>\n",
       "      <td>0.097222</td>\n",
       "      <td>0.100694</td>\n",
       "      <td>0.063956</td>\n",
       "      <td>308160000</td>\n",
       "    </tr>\n",
       "    <tr>\n",
       "      <th>2</th>\n",
       "      <td>1986-03-17</td>\n",
       "      <td>0.100694</td>\n",
       "      <td>0.103299</td>\n",
       "      <td>0.100694</td>\n",
       "      <td>0.102431</td>\n",
       "      <td>0.065059</td>\n",
       "      <td>133171200</td>\n",
       "    </tr>\n",
       "    <tr>\n",
       "      <th>3</th>\n",
       "      <td>1986-03-18</td>\n",
       "      <td>0.102431</td>\n",
       "      <td>0.103299</td>\n",
       "      <td>0.098958</td>\n",
       "      <td>0.099826</td>\n",
       "      <td>0.063405</td>\n",
       "      <td>67766400</td>\n",
       "    </tr>\n",
       "    <tr>\n",
       "      <th>4</th>\n",
       "      <td>1986-03-19</td>\n",
       "      <td>0.099826</td>\n",
       "      <td>0.100694</td>\n",
       "      <td>0.097222</td>\n",
       "      <td>0.098090</td>\n",
       "      <td>0.062302</td>\n",
       "      <td>47894400</td>\n",
       "    </tr>\n",
       "  </tbody>\n",
       "</table>\n",
       "</div>"
      ],
      "text/plain": [
       "        DATE      OPEN      HIGH       LOW     CLOSE  ADJ CLOSE      VOLUME\n",
       "0 1986-03-13  0.088542  0.101563  0.088542  0.097222   0.061751  1031788800\n",
       "1 1986-03-14  0.097222  0.102431  0.097222  0.100694   0.063956   308160000\n",
       "2 1986-03-17  0.100694  0.103299  0.100694  0.102431   0.065059   133171200\n",
       "3 1986-03-18  0.102431  0.103299  0.098958  0.099826   0.063405    67766400\n",
       "4 1986-03-19  0.099826  0.100694  0.097222  0.098090   0.062302    47894400"
      ]
     },
     "execution_count": 16,
     "metadata": {},
     "output_type": "execute_result"
    }
   ],
   "source": [
    "df2.head()"
   ]
  },
  {
   "cell_type": "code",
   "execution_count": 17,
   "metadata": {
    "colab": {
     "base_uri": "https://localhost:8080/",
     "height": 49
    },
    "executionInfo": {
     "elapsed": 57,
     "status": "ok",
     "timestamp": 1623952122377,
     "user": {
      "displayName": "abhishek sharma",
      "photoUrl": "https://lh3.googleusercontent.com/a-/AOh14GjnrxUa1ihLAGy0WbVku6ClyyAnQ2GApleXBVJ4=s64",
      "userId": "11200093688168956717"
     },
     "user_tz": 420
    },
    "id": "Cvr7LE7F3r86",
    "outputId": "f20f814b-1291-40a7-b0dd-49c845be8878"
   },
   "outputs": [
    {
     "data": {
      "text/html": [
       "<div>\n",
       "<style scoped>\n",
       "    .dataframe tbody tr th:only-of-type {\n",
       "        vertical-align: middle;\n",
       "    }\n",
       "\n",
       "    .dataframe tbody tr th {\n",
       "        vertical-align: top;\n",
       "    }\n",
       "\n",
       "    .dataframe thead th {\n",
       "        text-align: right;\n",
       "    }\n",
       "</style>\n",
       "<table border=\"1\" class=\"dataframe\">\n",
       "  <thead>\n",
       "    <tr style=\"text-align: right;\">\n",
       "      <th></th>\n",
       "      <th>DATE</th>\n",
       "      <th>OPEN</th>\n",
       "      <th>HIGH</th>\n",
       "      <th>LOW</th>\n",
       "      <th>CLOSE</th>\n",
       "      <th>ADJ CLOSE</th>\n",
       "      <th>VOLUME</th>\n",
       "    </tr>\n",
       "  </thead>\n",
       "  <tbody>\n",
       "  </tbody>\n",
       "</table>\n",
       "</div>"
      ],
      "text/plain": [
       "Empty DataFrame\n",
       "Columns: [DATE, OPEN, HIGH, LOW, CLOSE, ADJ CLOSE, VOLUME]\n",
       "Index: []"
      ]
     },
     "execution_count": 17,
     "metadata": {},
     "output_type": "execute_result"
    }
   ],
   "source": [
    "df2[df2.duplicated()]"
   ]
  },
  {
   "cell_type": "code",
   "execution_count": 18,
   "metadata": {
    "colab": {
     "base_uri": "https://localhost:8080/",
     "height": 297
    },
    "executionInfo": {
     "elapsed": 790,
     "status": "ok",
     "timestamp": 1623952123114,
     "user": {
      "displayName": "abhishek sharma",
      "photoUrl": "https://lh3.googleusercontent.com/a-/AOh14GjnrxUa1ihLAGy0WbVku6ClyyAnQ2GApleXBVJ4=s64",
      "userId": "11200093688168956717"
     },
     "user_tz": 420
    },
    "id": "alpxXG9N3r87",
    "outputId": "522a678c-269c-46e9-9ee3-2ebd2a85941b"
   },
   "outputs": [
    {
     "data": {
      "text/html": [
       "<div>\n",
       "<style scoped>\n",
       "    .dataframe tbody tr th:only-of-type {\n",
       "        vertical-align: middle;\n",
       "    }\n",
       "\n",
       "    .dataframe tbody tr th {\n",
       "        vertical-align: top;\n",
       "    }\n",
       "\n",
       "    .dataframe thead th {\n",
       "        text-align: right;\n",
       "    }\n",
       "</style>\n",
       "<table border=\"1\" class=\"dataframe\">\n",
       "  <thead>\n",
       "    <tr style=\"text-align: right;\">\n",
       "      <th></th>\n",
       "      <th>OPEN</th>\n",
       "      <th>HIGH</th>\n",
       "      <th>LOW</th>\n",
       "      <th>CLOSE</th>\n",
       "      <th>ADJ CLOSE</th>\n",
       "      <th>VOLUME</th>\n",
       "    </tr>\n",
       "  </thead>\n",
       "  <tbody>\n",
       "    <tr>\n",
       "      <th>count</th>\n",
       "      <td>8857.000000</td>\n",
       "      <td>8857.000000</td>\n",
       "      <td>8857.000000</td>\n",
       "      <td>8857.000000</td>\n",
       "      <td>8857.000000</td>\n",
       "      <td>8.857000e+03</td>\n",
       "    </tr>\n",
       "    <tr>\n",
       "      <th>mean</th>\n",
       "      <td>34.831233</td>\n",
       "      <td>35.209355</td>\n",
       "      <td>34.449657</td>\n",
       "      <td>34.840895</td>\n",
       "      <td>29.886536</td>\n",
       "      <td>5.953411e+07</td>\n",
       "    </tr>\n",
       "    <tr>\n",
       "      <th>std</th>\n",
       "      <td>44.060163</td>\n",
       "      <td>44.513443</td>\n",
       "      <td>43.597704</td>\n",
       "      <td>44.080986</td>\n",
       "      <td>44.195101</td>\n",
       "      <td>3.858121e+07</td>\n",
       "    </tr>\n",
       "    <tr>\n",
       "      <th>min</th>\n",
       "      <td>0.088542</td>\n",
       "      <td>0.092014</td>\n",
       "      <td>0.088542</td>\n",
       "      <td>0.090278</td>\n",
       "      <td>0.057340</td>\n",
       "      <td>2.304000e+06</td>\n",
       "    </tr>\n",
       "    <tr>\n",
       "      <th>25%</th>\n",
       "      <td>3.843750</td>\n",
       "      <td>3.875000</td>\n",
       "      <td>3.812500</td>\n",
       "      <td>3.851563</td>\n",
       "      <td>2.446323</td>\n",
       "      <td>3.559720e+07</td>\n",
       "    </tr>\n",
       "    <tr>\n",
       "      <th>50%</th>\n",
       "      <td>26.590000</td>\n",
       "      <td>26.879999</td>\n",
       "      <td>26.290001</td>\n",
       "      <td>26.590000</td>\n",
       "      <td>18.686628</td>\n",
       "      <td>5.269680e+07</td>\n",
       "    </tr>\n",
       "    <tr>\n",
       "      <th>75%</th>\n",
       "      <td>36.730000</td>\n",
       "      <td>37.000000</td>\n",
       "      <td>36.110001</td>\n",
       "      <td>36.660000</td>\n",
       "      <td>27.218300</td>\n",
       "      <td>7.339520e+07</td>\n",
       "    </tr>\n",
       "    <tr>\n",
       "      <th>max</th>\n",
       "      <td>261.660004</td>\n",
       "      <td>263.190002</td>\n",
       "      <td>260.170013</td>\n",
       "      <td>261.970001</td>\n",
       "      <td>261.970001</td>\n",
       "      <td>1.031789e+09</td>\n",
       "    </tr>\n",
       "  </tbody>\n",
       "</table>\n",
       "</div>"
      ],
      "text/plain": [
       "              OPEN         HIGH          LOW        CLOSE    ADJ CLOSE  \\\n",
       "count  8857.000000  8857.000000  8857.000000  8857.000000  8857.000000   \n",
       "mean     34.831233    35.209355    34.449657    34.840895    29.886536   \n",
       "std      44.060163    44.513443    43.597704    44.080986    44.195101   \n",
       "min       0.088542     0.092014     0.088542     0.090278     0.057340   \n",
       "25%       3.843750     3.875000     3.812500     3.851563     2.446323   \n",
       "50%      26.590000    26.879999    26.290001    26.590000    18.686628   \n",
       "75%      36.730000    37.000000    36.110001    36.660000    27.218300   \n",
       "max     261.660004   263.190002   260.170013   261.970001   261.970001   \n",
       "\n",
       "             VOLUME  \n",
       "count  8.857000e+03  \n",
       "mean   5.953411e+07  \n",
       "std    3.858121e+07  \n",
       "min    2.304000e+06  \n",
       "25%    3.559720e+07  \n",
       "50%    5.269680e+07  \n",
       "75%    7.339520e+07  \n",
       "max    1.031789e+09  "
      ]
     },
     "execution_count": 18,
     "metadata": {},
     "output_type": "execute_result"
    }
   ],
   "source": [
    "df2.describe()"
   ]
  },
  {
   "cell_type": "code",
   "execution_count": 19,
   "metadata": {
    "colab": {
     "base_uri": "https://localhost:8080/"
    },
    "executionInfo": {
     "elapsed": 80,
     "status": "ok",
     "timestamp": 1623952123116,
     "user": {
      "displayName": "abhishek sharma",
      "photoUrl": "https://lh3.googleusercontent.com/a-/AOh14GjnrxUa1ihLAGy0WbVku6ClyyAnQ2GApleXBVJ4=s64",
      "userId": "11200093688168956717"
     },
     "user_tz": 420
    },
    "id": "n3Epkzcx3r88",
    "outputId": "b03fc3fb-f2af-4217-b320-ac70c8dc075c"
   },
   "outputs": [
    {
     "data": {
      "text/plain": [
       "DATE         0\n",
       "OPEN         0\n",
       "HIGH         0\n",
       "LOW          0\n",
       "CLOSE        0\n",
       "ADJ CLOSE    0\n",
       "VOLUME       0\n",
       "dtype: int64"
      ]
     },
     "execution_count": 19,
     "metadata": {},
     "output_type": "execute_result"
    }
   ],
   "source": [
    "df2.isna().sum()"
   ]
  },
  {
   "cell_type": "code",
   "execution_count": 20,
   "metadata": {
    "colab": {
     "base_uri": "https://localhost:8080/"
    },
    "executionInfo": {
     "elapsed": 60,
     "status": "ok",
     "timestamp": 1623952123120,
     "user": {
      "displayName": "abhishek sharma",
      "photoUrl": "https://lh3.googleusercontent.com/a-/AOh14GjnrxUa1ihLAGy0WbVku6ClyyAnQ2GApleXBVJ4=s64",
      "userId": "11200093688168956717"
     },
     "user_tz": 420
    },
    "id": "f8yBb5cI3r88",
    "outputId": "06cf3c5a-3929-488f-a559-2a5d2d1a8b4a"
   },
   "outputs": [
    {
     "name": "stdout",
     "output_type": "stream",
     "text": [
      "<class 'pandas.core.frame.DataFrame'>\n",
      "RangeIndex: 8857 entries, 0 to 8856\n",
      "Data columns (total 7 columns):\n",
      " #   Column     Non-Null Count  Dtype         \n",
      "---  ------     --------------  -----         \n",
      " 0   DATE       8857 non-null   datetime64[ns]\n",
      " 1   OPEN       8857 non-null   float64       \n",
      " 2   HIGH       8857 non-null   float64       \n",
      " 3   LOW        8857 non-null   float64       \n",
      " 4   CLOSE      8857 non-null   float64       \n",
      " 5   ADJ CLOSE  8857 non-null   float64       \n",
      " 6   VOLUME     8857 non-null   int64         \n",
      "dtypes: datetime64[ns](1), float64(5), int64(1)\n",
      "memory usage: 484.5 KB\n"
     ]
    }
   ],
   "source": [
    "df2.info()"
   ]
  },
  {
   "cell_type": "code",
   "execution_count": 21,
   "metadata": {
    "colab": {
     "base_uri": "https://localhost:8080/"
    },
    "executionInfo": {
     "elapsed": 47,
     "status": "ok",
     "timestamp": 1623952123122,
     "user": {
      "displayName": "abhishek sharma",
      "photoUrl": "https://lh3.googleusercontent.com/a-/AOh14GjnrxUa1ihLAGy0WbVku6ClyyAnQ2GApleXBVJ4=s64",
      "userId": "11200093688168956717"
     },
     "user_tz": 420
    },
    "id": "YuTkG3_e3r89",
    "outputId": "2ca56b6c-8e2e-4869-9921-ea8eb94bf8c4"
   },
   "outputs": [],
   "source": [
    "#df2.value_counts()"
   ]
  },
  {
   "cell_type": "markdown",
   "metadata": {
    "id": "pTvCEwya3r8-"
   },
   "source": [
    "# EDA ANALYSIS (DataFrame.csv)"
   ]
  },
  {
   "cell_type": "code",
   "execution_count": 22,
   "metadata": {
    "executionInfo": {
     "elapsed": 952,
     "status": "ok",
     "timestamp": 1623952124046,
     "user": {
      "displayName": "abhishek sharma",
      "photoUrl": "https://lh3.googleusercontent.com/a-/AOh14GjnrxUa1ihLAGy0WbVku6ClyyAnQ2GApleXBVJ4=s64",
      "userId": "11200093688168956717"
     },
     "user_tz": 420
    },
    "id": "lxRBbFCK3r8-"
   },
   "outputs": [],
   "source": [
    "import matplotlib.pyplot as plt\n",
    "import seaborn as sns"
   ]
  },
  {
   "cell_type": "code",
   "execution_count": 23,
   "metadata": {
    "colab": {
     "base_uri": "https://localhost:8080/",
     "height": 419
    },
    "executionInfo": {
     "elapsed": 66,
     "status": "ok",
     "timestamp": 1623952124049,
     "user": {
      "displayName": "abhishek sharma",
      "photoUrl": "https://lh3.googleusercontent.com/a-/AOh14GjnrxUa1ihLAGy0WbVku6ClyyAnQ2GApleXBVJ4=s64",
      "userId": "11200093688168956717"
     },
     "user_tz": 420
    },
    "id": "1a5p5a3S3r8_",
    "outputId": "2137bcbd-bf46-435f-bebb-2401711111da"
   },
   "outputs": [
    {
     "data": {
      "text/html": [
       "<div>\n",
       "<style scoped>\n",
       "    .dataframe tbody tr th:only-of-type {\n",
       "        vertical-align: middle;\n",
       "    }\n",
       "\n",
       "    .dataframe tbody tr th {\n",
       "        vertical-align: top;\n",
       "    }\n",
       "\n",
       "    .dataframe thead th {\n",
       "        text-align: right;\n",
       "    }\n",
       "</style>\n",
       "<table border=\"1\" class=\"dataframe\">\n",
       "  <thead>\n",
       "    <tr style=\"text-align: right;\">\n",
       "      <th></th>\n",
       "      <th>TYPE</th>\n",
       "      <th>DATE</th>\n",
       "      <th>TIME</th>\n",
       "      <th>OPEN</th>\n",
       "      <th>HIGH</th>\n",
       "      <th>LOW</th>\n",
       "      <th>CLOSE</th>\n",
       "    </tr>\n",
       "  </thead>\n",
       "  <tbody>\n",
       "    <tr>\n",
       "      <th>0</th>\n",
       "      <td>NIFTY</td>\n",
       "      <td>2021-01-01</td>\n",
       "      <td>09:16</td>\n",
       "      <td>13997.90</td>\n",
       "      <td>14020.85</td>\n",
       "      <td>13991.35</td>\n",
       "      <td>14013.15</td>\n",
       "    </tr>\n",
       "    <tr>\n",
       "      <th>1</th>\n",
       "      <td>NIFTY</td>\n",
       "      <td>2021-01-01</td>\n",
       "      <td>09:17</td>\n",
       "      <td>14014.85</td>\n",
       "      <td>14018.55</td>\n",
       "      <td>14008.15</td>\n",
       "      <td>14009.05</td>\n",
       "    </tr>\n",
       "    <tr>\n",
       "      <th>2</th>\n",
       "      <td>NIFTY</td>\n",
       "      <td>2021-01-01</td>\n",
       "      <td>09:18</td>\n",
       "      <td>14008.05</td>\n",
       "      <td>14013.10</td>\n",
       "      <td>14005.05</td>\n",
       "      <td>14012.70</td>\n",
       "    </tr>\n",
       "    <tr>\n",
       "      <th>3</th>\n",
       "      <td>NIFTY</td>\n",
       "      <td>2021-01-01</td>\n",
       "      <td>09:19</td>\n",
       "      <td>14013.65</td>\n",
       "      <td>14019.10</td>\n",
       "      <td>14013.65</td>\n",
       "      <td>14016.20</td>\n",
       "    </tr>\n",
       "    <tr>\n",
       "      <th>4</th>\n",
       "      <td>NIFTY</td>\n",
       "      <td>2021-01-01</td>\n",
       "      <td>09:20</td>\n",
       "      <td>14015.45</td>\n",
       "      <td>14017.80</td>\n",
       "      <td>14011.95</td>\n",
       "      <td>14015.45</td>\n",
       "    </tr>\n",
       "    <tr>\n",
       "      <th>...</th>\n",
       "      <td>...</td>\n",
       "      <td>...</td>\n",
       "      <td>...</td>\n",
       "      <td>...</td>\n",
       "      <td>...</td>\n",
       "      <td>...</td>\n",
       "      <td>...</td>\n",
       "    </tr>\n",
       "    <tr>\n",
       "      <th>22800</th>\n",
       "      <td>NIFTY</td>\n",
       "      <td>2021-03-31</td>\n",
       "      <td>15:27</td>\n",
       "      <td>14687.35</td>\n",
       "      <td>14694.35</td>\n",
       "      <td>14686.30</td>\n",
       "      <td>14690.60</td>\n",
       "    </tr>\n",
       "    <tr>\n",
       "      <th>22801</th>\n",
       "      <td>NIFTY</td>\n",
       "      <td>2021-03-31</td>\n",
       "      <td>15:28</td>\n",
       "      <td>14690.90</td>\n",
       "      <td>14690.90</td>\n",
       "      <td>14686.05</td>\n",
       "      <td>14689.30</td>\n",
       "    </tr>\n",
       "    <tr>\n",
       "      <th>22802</th>\n",
       "      <td>NIFTY</td>\n",
       "      <td>2021-03-31</td>\n",
       "      <td>15:29</td>\n",
       "      <td>14690.30</td>\n",
       "      <td>14694.10</td>\n",
       "      <td>14688.55</td>\n",
       "      <td>14691.30</td>\n",
       "    </tr>\n",
       "    <tr>\n",
       "      <th>22803</th>\n",
       "      <td>NIFTY</td>\n",
       "      <td>2021-03-31</td>\n",
       "      <td>15:30</td>\n",
       "      <td>14689.85</td>\n",
       "      <td>14693.55</td>\n",
       "      <td>14689.45</td>\n",
       "      <td>14693.05</td>\n",
       "    </tr>\n",
       "    <tr>\n",
       "      <th>22804</th>\n",
       "      <td>NIFTY</td>\n",
       "      <td>2021-03-31</td>\n",
       "      <td>15:31</td>\n",
       "      <td>14690.70</td>\n",
       "      <td>14690.70</td>\n",
       "      <td>14690.70</td>\n",
       "      <td>14690.70</td>\n",
       "    </tr>\n",
       "  </tbody>\n",
       "</table>\n",
       "<p>22805 rows × 7 columns</p>\n",
       "</div>"
      ],
      "text/plain": [
       "        TYPE       DATE   TIME      OPEN      HIGH       LOW     CLOSE\n",
       "0      NIFTY 2021-01-01  09:16  13997.90  14020.85  13991.35  14013.15\n",
       "1      NIFTY 2021-01-01  09:17  14014.85  14018.55  14008.15  14009.05\n",
       "2      NIFTY 2021-01-01  09:18  14008.05  14013.10  14005.05  14012.70\n",
       "3      NIFTY 2021-01-01  09:19  14013.65  14019.10  14013.65  14016.20\n",
       "4      NIFTY 2021-01-01  09:20  14015.45  14017.80  14011.95  14015.45\n",
       "...      ...        ...    ...       ...       ...       ...       ...\n",
       "22800  NIFTY 2021-03-31  15:27  14687.35  14694.35  14686.30  14690.60\n",
       "22801  NIFTY 2021-03-31  15:28  14690.90  14690.90  14686.05  14689.30\n",
       "22802  NIFTY 2021-03-31  15:29  14690.30  14694.10  14688.55  14691.30\n",
       "22803  NIFTY 2021-03-31  15:30  14689.85  14693.55  14689.45  14693.05\n",
       "22804  NIFTY 2021-03-31  15:31  14690.70  14690.70  14690.70  14690.70\n",
       "\n",
       "[22805 rows x 7 columns]"
      ]
     },
     "execution_count": 23,
     "metadata": {},
     "output_type": "execute_result"
    }
   ],
   "source": [
    "d1 = data.copy()\n",
    "d1"
   ]
  },
  {
   "cell_type": "code",
   "execution_count": 24,
   "metadata": {
    "executionInfo": {
     "elapsed": 62,
     "status": "ok",
     "timestamp": 1623952124051,
     "user": {
      "displayName": "abhishek sharma",
      "photoUrl": "https://lh3.googleusercontent.com/a-/AOh14GjnrxUa1ihLAGy0WbVku6ClyyAnQ2GApleXBVJ4=s64",
      "userId": "11200093688168956717"
     },
     "user_tz": 420
    },
    "id": "lTOXpQG0gnKM"
   },
   "outputs": [],
   "source": [
    "d1.columns\n",
    "d1 = d1.set_index(['TYPE','DATE','TIME'])"
   ]
  },
  {
   "cell_type": "code",
   "execution_count": 25,
   "metadata": {
    "executionInfo": {
     "elapsed": 60,
     "status": "ok",
     "timestamp": 1623952124053,
     "user": {
      "displayName": "abhishek sharma",
      "photoUrl": "https://lh3.googleusercontent.com/a-/AOh14GjnrxUa1ihLAGy0WbVku6ClyyAnQ2GApleXBVJ4=s64",
      "userId": "11200093688168956717"
     },
     "user_tz": 420
    },
    "id": "EPEEmJ43gsA5"
   },
   "outputs": [],
   "source": [
    "feature = ['OPEN', 'HIGH', 'LOW', 'CLOSE']"
   ]
  },
  {
   "cell_type": "code",
   "execution_count": 26,
   "metadata": {
    "colab": {
     "base_uri": "https://localhost:8080/"
    },
    "executionInfo": {
     "elapsed": 60,
     "status": "ok",
     "timestamp": 1623952124055,
     "user": {
      "displayName": "abhishek sharma",
      "photoUrl": "https://lh3.googleusercontent.com/a-/AOh14GjnrxUa1ihLAGy0WbVku6ClyyAnQ2GApleXBVJ4=s64",
      "userId": "11200093688168956717"
     },
     "user_tz": 420
    },
    "id": "dGLAlmT7hEMD",
    "outputId": "b24e553b-251b-4d53-8a9f-94765388589b"
   },
   "outputs": [
    {
     "data": {
      "text/plain": [
       "[(0, 'OPEN'), (1, 'HIGH'), (2, 'LOW'), (3, 'CLOSE')]"
      ]
     },
     "execution_count": 26,
     "metadata": {},
     "output_type": "execute_result"
    }
   ],
   "source": [
    "list(enumerate(feature))"
   ]
  },
  {
   "cell_type": "code",
   "execution_count": 27,
   "metadata": {
    "colab": {
     "base_uri": "https://localhost:8080/",
     "height": 768
    },
    "executionInfo": {
     "elapsed": 614,
     "status": "ok",
     "timestamp": 1623952124632,
     "user": {
      "displayName": "abhishek sharma",
      "photoUrl": "https://lh3.googleusercontent.com/a-/AOh14GjnrxUa1ihLAGy0WbVku6ClyyAnQ2GApleXBVJ4=s64",
      "userId": "11200093688168956717"
     },
     "user_tz": 420
    },
    "id": "-ML4KQrChMwC",
    "outputId": "988dd753-3d25-46e7-b32a-c7539e815b6c"
   },
   "outputs": [
    {
     "name": "stderr",
     "output_type": "stream",
     "text": [
      "/opt/anaconda3/lib/python3.8/site-packages/seaborn/distributions.py:2557: FutureWarning: `distplot` is a deprecated function and will be removed in a future version. Please adapt your code to use either `displot` (a figure-level function with similar flexibility) or `histplot` (an axes-level function for histograms).\n",
      "  warnings.warn(msg, FutureWarning)\n"
     ]
    },
    {
     "data": {
      "image/png": "[encoded data removed]",
      "text/plain": [
       "<Figure size 1080x864 with 4 Axes>"
      ]
     },
     "metadata": {
      "needs_background": "light"
     },
     "output_type": "display_data"
    }
   ],
   "source": [
    "plt.figure(figsize=(15,12))\n",
    "for i in enumerate(feature):\n",
    "    plt.subplot(2,2,i[0]+1)\n",
    "    base_color = sns.color_palette()[i[0]]\n",
    "    sns.distplot(x = d1[i[1]] , kde = False , color = base_color)\n",
    "    plt.xlabel(i[1]);"
   ]
  },
  {
   "cell_type": "code",
   "execution_count": 28,
   "metadata": {
    "colab": {
     "base_uri": "https://localhost:8080/",
     "height": 742
    },
    "executionInfo": {
     "elapsed": 5394,
     "status": "ok",
     "timestamp": 1623952130016,
     "user": {
      "displayName": "abhishek sharma",
      "photoUrl": "https://lh3.googleusercontent.com/a-/AOh14GjnrxUa1ihLAGy0WbVku6ClyyAnQ2GApleXBVJ4=s64",
      "userId": "11200093688168956717"
     },
     "user_tz": 420
    },
    "id": "8bLKIkpiO2ms",
    "outputId": "20f69cb7-6f56-4c9a-d7a4-d6470559a704"
   },
   "outputs": [
    {
     "data": {
      "text/plain": [
       "<seaborn.axisgrid.PairGrid at 0x7ff4b3b370a0>"
      ]
     },
     "execution_count": 28,
     "metadata": {},
     "output_type": "execute_result"
    },
    {
     "data": {
      "image/png": "[encoded data removed]",
      "text/plain": [
       "<Figure size 720x720 with 20 Axes>"
      ]
     },
     "metadata": {
      "needs_background": "light"
     },
     "output_type": "display_data"
    }
   ],
   "source": [
    "color = sns.PairGrid(d1)\n",
    "color.map_upper(sns.scatterplot,color = 'green')\n",
    "color.map_lower(sns.scatterplot,color = 'orange')\n",
    "color.map_diag(plt.hist)"
   ]
  },
  {
   "cell_type": "code",
   "execution_count": 29,
   "metadata": {
    "colab": {
     "base_uri": "https://localhost:8080/",
     "height": 578
    },
    "executionInfo": {
     "elapsed": 5690,
     "status": "ok",
     "timestamp": 1623952135673,
     "user": {
      "displayName": "abhishek sharma",
      "photoUrl": "https://lh3.googleusercontent.com/a-/AOh14GjnrxUa1ihLAGy0WbVku6ClyyAnQ2GApleXBVJ4=s64",
      "userId": "11200093688168956717"
     },
     "user_tz": 420
    },
    "id": "sdihaLUEQUb4",
    "outputId": "e201d795-8439-4b55-ca9f-c55653dce92a"
   },
   "outputs": [
    {
     "data": {
      "text/plain": [
       "Text(0.5, 0, 'DATE')"
      ]
     },
     "execution_count": 29,
     "metadata": {},
     "output_type": "execute_result"
    },
    {
     "data": {
      "image/png": "[encoded data removed]",
      "text/plain": [
       "<Figure size 1080x576 with 1 Axes>"
      ]
     },
     "metadata": {
      "needs_background": "light"
     },
     "output_type": "display_data"
    }
   ],
   "source": [
    "d1 = d1.reset_index()                  # line plot w.r.t DATE\n",
    "d1 = d1.set_index('DATE')\n",
    "plt.figure(figsize=(15,8))\n",
    "sns.lineplot(data = d1)\n",
    "plt.xticks(rotation = 90)\n",
    "plt.title('Line Plot with respect to DATE')\n",
    "plt.xlabel(\"DATE\")\n"
   ]
  },
  {
   "cell_type": "code",
   "execution_count": 30,
   "metadata": {
    "colab": {
     "base_uri": "https://localhost:8080/",
     "height": 606
    },
    "executionInfo": {
     "elapsed": 1112,
     "status": "ok",
     "timestamp": 1623952136772,
     "user": {
      "displayName": "abhishek sharma",
      "photoUrl": "https://lh3.googleusercontent.com/a-/AOh14GjnrxUa1ihLAGy0WbVku6ClyyAnQ2GApleXBVJ4=s64",
      "userId": "11200093688168956717"
     },
     "user_tz": 420
    },
    "id": "5FlVb2YnRkrJ",
    "outputId": "5b59ac38-0899-44b0-d459-765f85c46b7b"
   },
   "outputs": [
    {
     "data": {
      "image/png": "[encoded data removed]",
      "text/plain": [
       "<Figure size 1080x720 with 4 Axes>"
      ]
     },
     "metadata": {
      "needs_background": "light"
     },
     "output_type": "display_data"
    }
   ],
   "source": [
    "plt.figure(figsize=(15,10))         #creating Box plots of various attributes\n",
    "for i in enumerate(feature):\n",
    "    plt.subplot(2,2,i[0]+1)\n",
    "    base_color = sns.color_palette()[i[0]]\n",
    "    sns.boxplot(x = d1[i[1]] , color = base_color)\n",
    "    plt.xlabel(i[1]);"
   ]
  },
  {
   "cell_type": "code",
   "execution_count": 31,
   "metadata": {
    "colab": {
     "base_uri": "https://localhost:8080/",
     "height": 286
    },
    "executionInfo": {
     "elapsed": 84,
     "status": "ok",
     "timestamp": 1623952136775,
     "user": {
      "displayName": "abhishek sharma",
      "photoUrl": "https://lh3.googleusercontent.com/a-/AOh14GjnrxUa1ihLAGy0WbVku6ClyyAnQ2GApleXBVJ4=s64",
      "userId": "11200093688168956717"
     },
     "user_tz": 420
    },
    "id": "NfBIycHg3r9D",
    "outputId": "3df85317-a70f-4312-d3f2-2d5160e73f0d"
   },
   "outputs": [
    {
     "data": {
      "text/plain": [
       "<AxesSubplot:>"
      ]
     },
     "execution_count": 31,
     "metadata": {},
     "output_type": "execute_result"
    },
    {
     "data": {
      "image/png": "[encoded data removed]",
      "text/plain": [
       "<Figure size 432x288 with 2 Axes>"
      ]
     },
     "metadata": {
      "needs_background": "light"
     },
     "output_type": "display_data"
    }
   ],
   "source": [
    "sns.heatmap(d1.corr() , vmin = -1 , vmax = 1 , annot = True , cmap = 'Blues')     #heat map to determine correlation"
   ]
  },
  {
   "cell_type": "markdown",
   "metadata": {
    "id": "_A_96PAs3r9D"
   },
   "source": [
    "# EDA ANALYSIS (MSFT.csv)"
   ]
  },
  {
   "cell_type": "code",
   "execution_count": 32,
   "metadata": {
    "colab": {
     "base_uri": "https://localhost:8080/",
     "height": 419
    },
    "executionInfo": {
     "elapsed": 66,
     "status": "ok",
     "timestamp": 1623952136777,
     "user": {
      "displayName": "abhishek sharma",
      "photoUrl": "https://lh3.googleusercontent.com/a-/AOh14GjnrxUa1ihLAGy0WbVku6ClyyAnQ2GApleXBVJ4=s64",
      "userId": "11200093688168956717"
     },
     "user_tz": 420
    },
    "id": "w3aVDnWq3r9E",
    "outputId": "95a49505-cb50-4f06-b195-02fa6f236fae"
   },
   "outputs": [
    {
     "data": {
      "text/html": [
       "<div>\n",
       "<style scoped>\n",
       "    .dataframe tbody tr th:only-of-type {\n",
       "        vertical-align: middle;\n",
       "    }\n",
       "\n",
       "    .dataframe tbody tr th {\n",
       "        vertical-align: top;\n",
       "    }\n",
       "\n",
       "    .dataframe thead th {\n",
       "        text-align: right;\n",
       "    }\n",
       "</style>\n",
       "<table border=\"1\" class=\"dataframe\">\n",
       "  <thead>\n",
       "    <tr style=\"text-align: right;\">\n",
       "      <th></th>\n",
       "      <th>DATE</th>\n",
       "      <th>OPEN</th>\n",
       "      <th>HIGH</th>\n",
       "      <th>LOW</th>\n",
       "      <th>CLOSE</th>\n",
       "      <th>ADJ CLOSE</th>\n",
       "      <th>VOLUME</th>\n",
       "    </tr>\n",
       "  </thead>\n",
       "  <tbody>\n",
       "    <tr>\n",
       "      <th>0</th>\n",
       "      <td>1986-03-13</td>\n",
       "      <td>0.088542</td>\n",
       "      <td>0.101563</td>\n",
       "      <td>0.088542</td>\n",
       "      <td>0.097222</td>\n",
       "      <td>0.061751</td>\n",
       "      <td>1031788800</td>\n",
       "    </tr>\n",
       "    <tr>\n",
       "      <th>1</th>\n",
       "      <td>1986-03-14</td>\n",
       "      <td>0.097222</td>\n",
       "      <td>0.102431</td>\n",
       "      <td>0.097222</td>\n",
       "      <td>0.100694</td>\n",
       "      <td>0.063956</td>\n",
       "      <td>308160000</td>\n",
       "    </tr>\n",
       "    <tr>\n",
       "      <th>2</th>\n",
       "      <td>1986-03-17</td>\n",
       "      <td>0.100694</td>\n",
       "      <td>0.103299</td>\n",
       "      <td>0.100694</td>\n",
       "      <td>0.102431</td>\n",
       "      <td>0.065059</td>\n",
       "      <td>133171200</td>\n",
       "    </tr>\n",
       "    <tr>\n",
       "      <th>3</th>\n",
       "      <td>1986-03-18</td>\n",
       "      <td>0.102431</td>\n",
       "      <td>0.103299</td>\n",
       "      <td>0.098958</td>\n",
       "      <td>0.099826</td>\n",
       "      <td>0.063405</td>\n",
       "      <td>67766400</td>\n",
       "    </tr>\n",
       "    <tr>\n",
       "      <th>4</th>\n",
       "      <td>1986-03-19</td>\n",
       "      <td>0.099826</td>\n",
       "      <td>0.100694</td>\n",
       "      <td>0.097222</td>\n",
       "      <td>0.098090</td>\n",
       "      <td>0.062302</td>\n",
       "      <td>47894400</td>\n",
       "    </tr>\n",
       "    <tr>\n",
       "      <th>...</th>\n",
       "      <td>...</td>\n",
       "      <td>...</td>\n",
       "      <td>...</td>\n",
       "      <td>...</td>\n",
       "      <td>...</td>\n",
       "      <td>...</td>\n",
       "      <td>...</td>\n",
       "    </tr>\n",
       "    <tr>\n",
       "      <th>8852</th>\n",
       "      <td>2021-04-27</td>\n",
       "      <td>261.579987</td>\n",
       "      <td>263.190002</td>\n",
       "      <td>260.119995</td>\n",
       "      <td>261.970001</td>\n",
       "      <td>261.970001</td>\n",
       "      <td>31014200</td>\n",
       "    </tr>\n",
       "    <tr>\n",
       "      <th>8853</th>\n",
       "      <td>2021-04-28</td>\n",
       "      <td>256.079987</td>\n",
       "      <td>256.540009</td>\n",
       "      <td>252.949997</td>\n",
       "      <td>254.559998</td>\n",
       "      <td>254.559998</td>\n",
       "      <td>46903100</td>\n",
       "    </tr>\n",
       "    <tr>\n",
       "      <th>8854</th>\n",
       "      <td>2021-04-29</td>\n",
       "      <td>255.460007</td>\n",
       "      <td>256.100006</td>\n",
       "      <td>249.000000</td>\n",
       "      <td>252.509995</td>\n",
       "      <td>252.509995</td>\n",
       "      <td>40589000</td>\n",
       "    </tr>\n",
       "    <tr>\n",
       "      <th>8855</th>\n",
       "      <td>2021-04-30</td>\n",
       "      <td>249.740005</td>\n",
       "      <td>253.080002</td>\n",
       "      <td>249.600006</td>\n",
       "      <td>252.179993</td>\n",
       "      <td>252.179993</td>\n",
       "      <td>30929200</td>\n",
       "    </tr>\n",
       "    <tr>\n",
       "      <th>8856</th>\n",
       "      <td>2021-05-03</td>\n",
       "      <td>253.399994</td>\n",
       "      <td>254.350006</td>\n",
       "      <td>251.119995</td>\n",
       "      <td>251.860001</td>\n",
       "      <td>251.860001</td>\n",
       "      <td>19598900</td>\n",
       "    </tr>\n",
       "  </tbody>\n",
       "</table>\n",
       "<p>8857 rows × 7 columns</p>\n",
       "</div>"
      ],
      "text/plain": [
       "           DATE        OPEN        HIGH         LOW       CLOSE   ADJ CLOSE  \\\n",
       "0    1986-03-13    0.088542    0.101563    0.088542    0.097222    0.061751   \n",
       "1    1986-03-14    0.097222    0.102431    0.097222    0.100694    0.063956   \n",
       "2    1986-03-17    0.100694    0.103299    0.100694    0.102431    0.065059   \n",
       "3    1986-03-18    0.102431    0.103299    0.098958    0.099826    0.063405   \n",
       "4    1986-03-19    0.099826    0.100694    0.097222    0.098090    0.062302   \n",
       "...         ...         ...         ...         ...         ...         ...   \n",
       "8852 2021-04-27  261.579987  263.190002  260.119995  261.970001  261.970001   \n",
       "8853 2021-04-28  256.079987  256.540009  252.949997  254.559998  254.559998   \n",
       "8854 2021-04-29  255.460007  256.100006  249.000000  252.509995  252.509995   \n",
       "8855 2021-04-30  249.740005  253.080002  249.600006  252.179993  252.179993   \n",
       "8856 2021-05-03  253.399994  254.350006  251.119995  251.860001  251.860001   \n",
       "\n",
       "          VOLUME  \n",
       "0     1031788800  \n",
       "1      308160000  \n",
       "2      133171200  \n",
       "3       67766400  \n",
       "4       47894400  \n",
       "...          ...  \n",
       "8852    31014200  \n",
       "8853    46903100  \n",
       "8854    40589000  \n",
       "8855    30929200  \n",
       "8856    19598900  \n",
       "\n",
       "[8857 rows x 7 columns]"
      ]
     },
     "execution_count": 32,
     "metadata": {},
     "output_type": "execute_result"
    }
   ],
   "source": [
    "d2 = df2.copy()\n",
    "d2"
   ]
  },
  {
   "cell_type": "code",
   "execution_count": 33,
   "metadata": {
    "executionInfo": {
     "elapsed": 65,
     "status": "ok",
     "timestamp": 1623952136780,
     "user": {
      "displayName": "abhishek sharma",
      "photoUrl": "https://lh3.googleusercontent.com/a-/AOh14GjnrxUa1ihLAGy0WbVku6ClyyAnQ2GApleXBVJ4=s64",
      "userId": "11200093688168956717"
     },
     "user_tz": 420
    },
    "id": "dTaQ9g0RSW_P"
   },
   "outputs": [],
   "source": [
    "d2 = d2.set_index('DATE')"
   ]
  },
  {
   "cell_type": "code",
   "execution_count": 34,
   "metadata": {
    "executionInfo": {
     "elapsed": 65,
     "status": "ok",
     "timestamp": 1623952136782,
     "user": {
      "displayName": "abhishek sharma",
      "photoUrl": "https://lh3.googleusercontent.com/a-/AOh14GjnrxUa1ihLAGy0WbVku6ClyyAnQ2GApleXBVJ4=s64",
      "userId": "11200093688168956717"
     },
     "user_tz": 420
    },
    "id": "n3qoL67LShlF"
   },
   "outputs": [],
   "source": [
    "feat = d2.columns"
   ]
  },
  {
   "cell_type": "code",
   "execution_count": 35,
   "metadata": {
    "colab": {
     "base_uri": "https://localhost:8080/"
    },
    "executionInfo": {
     "elapsed": 69,
     "status": "ok",
     "timestamp": 1623952136787,
     "user": {
      "displayName": "abhishek sharma",
      "photoUrl": "https://lh3.googleusercontent.com/a-/AOh14GjnrxUa1ihLAGy0WbVku6ClyyAnQ2GApleXBVJ4=s64",
      "userId": "11200093688168956717"
     },
     "user_tz": 420
    },
    "id": "5Pfm4hI7St4J",
    "outputId": "d0e62a93-2dcb-4855-b1d5-958ab7783a5e"
   },
   "outputs": [
    {
     "data": {
      "text/plain": [
       "[(0, 'OPEN'),\n",
       " (1, 'HIGH'),\n",
       " (2, 'LOW'),\n",
       " (3, 'CLOSE'),\n",
       " (4, 'ADJ CLOSE'),\n",
       " (5, 'VOLUME')]"
      ]
     },
     "execution_count": 35,
     "metadata": {},
     "output_type": "execute_result"
    }
   ],
   "source": [
    "list(enumerate(feat))"
   ]
  },
  {
   "cell_type": "code",
   "execution_count": 36,
   "metadata": {
    "colab": {
     "base_uri": "https://localhost:8080/",
     "height": 1000
    },
    "executionInfo": {
     "elapsed": 1761,
     "status": "ok",
     "timestamp": 1623952138493,
     "user": {
      "displayName": "abhishek sharma",
      "photoUrl": "https://lh3.googleusercontent.com/a-/AOh14GjnrxUa1ihLAGy0WbVku6ClyyAnQ2GApleXBVJ4=s64",
      "userId": "11200093688168956717"
     },
     "user_tz": 420
    },
    "id": "_rvS3m4ySLW3",
    "outputId": "78692e84-0031-4fa1-b35e-3759df3fe6c6"
   },
   "outputs": [
    {
     "name": "stderr",
     "output_type": "stream",
     "text": [
      "/opt/anaconda3/lib/python3.8/site-packages/seaborn/distributions.py:2557: FutureWarning: `distplot` is a deprecated function and will be removed in a future version. Please adapt your code to use either `displot` (a figure-level function with similar flexibility) or `histplot` (an axes-level function for histograms).\n",
      "  warnings.warn(msg, FutureWarning)\n",
      "/opt/anaconda3/lib/python3.8/site-packages/seaborn/distributions.py:2557: FutureWarning: `distplot` is a deprecated function and will be removed in a future version. Please adapt your code to use either `displot` (a figure-level function with similar flexibility) or `histplot` (an axes-level function for histograms).\n",
      "  warnings.warn(msg, FutureWarning)\n",
      "/opt/anaconda3/lib/python3.8/site-packages/seaborn/distributions.py:2557: FutureWarning: `distplot` is a deprecated function and will be removed in a future version. Please adapt your code to use either `displot` (a figure-level function with similar flexibility) or `histplot` (an axes-level function for histograms).\n",
      "  warnings.warn(msg, FutureWarning)\n",
      "/opt/anaconda3/lib/python3.8/site-packages/seaborn/distributions.py:2557: FutureWarning: `distplot` is a deprecated function and will be removed in a future version. Please adapt your code to use either `displot` (a figure-level function with similar flexibility) or `histplot` (an axes-level function for histograms).\n",
      "  warnings.warn(msg, FutureWarning)\n",
      "/opt/anaconda3/lib/python3.8/site-packages/seaborn/distributions.py:2557: FutureWarning: `distplot` is a deprecated function and will be removed in a future version. Please adapt your code to use either `displot` (a figure-level function with similar flexibility) or `histplot` (an axes-level function for histograms).\n",
      "  warnings.warn(msg, FutureWarning)\n",
      "/opt/anaconda3/lib/python3.8/site-packages/seaborn/distributions.py:2557: FutureWarning: `distplot` is a deprecated function and will be removed in a future version. Please adapt your code to use either `displot` (a figure-level function with similar flexibility) or `histplot` (an axes-level function for histograms).\n",
      "  warnings.warn(msg, FutureWarning)\n"
     ]
    },
    {
     "data": {
      "image/png": "[encoded data removed]",
      "text/plain": [
       "<Figure size 1080x1080 with 6 Axes>"
      ]
     },
     "metadata": {
      "needs_background": "light"
     },
     "output_type": "display_data"
    }
   ],
   "source": [
    "plt.figure(figsize=(15,15))         #creating distribution plots of various attributes\n",
    "for i in enumerate(feat):\n",
    "    plt.subplot(3,2,i[0]+1)\n",
    "    base_color = sns.color_palette()[i[0]]\n",
    "    sns.distplot(x = d2[i[1]] , color = base_color)\n",
    "    plt.xlabel(i[1]);\n",
    "    plt.title(f'Distribution plot of {i[1]}')"
   ]
  },
  {
   "cell_type": "code",
   "execution_count": 37,
   "metadata": {
    "executionInfo": {
     "elapsed": 17,
     "status": "ok",
     "timestamp": 1623952138495,
     "user": {
      "displayName": "abhishek sharma",
      "photoUrl": "https://lh3.googleusercontent.com/a-/AOh14GjnrxUa1ihLAGy0WbVku6ClyyAnQ2GApleXBVJ4=s64",
      "userId": "11200093688168956717"
     },
     "user_tz": 420
    },
    "id": "I34yRMdN3r9F"
   },
   "outputs": [],
   "source": [
    "#plt.figure(figsize=(15,10))    #plot of line plot btwn Date and various other attributes\n",
    "#d2 = d2.set_index('DATE')\n",
    "#sns.lineplot(data = d2)"
   ]
  },
  {
   "cell_type": "code",
   "execution_count": 38,
   "metadata": {
    "colab": {
     "base_uri": "https://localhost:8080/",
     "height": 1000
    },
    "executionInfo": {
     "elapsed": 14787,
     "status": "ok",
     "timestamp": 1623952153268,
     "user": {
      "displayName": "abhishek sharma",
      "photoUrl": "https://lh3.googleusercontent.com/a-/AOh14GjnrxUa1ihLAGy0WbVku6ClyyAnQ2GApleXBVJ4=s64",
      "userId": "11200093688168956717"
     },
     "user_tz": 420
    },
    "id": "RwxQhpaaTygA",
    "outputId": "8429bb36-1097-4af9-8be6-bceb631fbaea"
   },
   "outputs": [
    {
     "data": {
      "text/plain": [
       "<seaborn.axisgrid.PairGrid at 0x7ff4b61eff40>"
      ]
     },
     "execution_count": 38,
     "metadata": {},
     "output_type": "execute_result"
    },
    {
     "data": {
      "image/png": "[encoded data removed]",
      "text/plain": [
       "<Figure size 1080x1080 with 42 Axes>"
      ]
     },
     "metadata": {
      "needs_background": "light"
     },
     "output_type": "display_data"
    }
   ],
   "source": [
    "sns.pairplot(data = d2)      #Plots b/w various attributes"
   ]
  },
  {
   "cell_type": "code",
   "execution_count": 39,
   "metadata": {
    "colab": {
     "base_uri": "https://localhost:8080/",
     "height": 606
    },
    "executionInfo": {
     "elapsed": 1692,
     "status": "ok",
     "timestamp": 1623952154926,
     "user": {
      "displayName": "abhishek sharma",
      "photoUrl": "https://lh3.googleusercontent.com/a-/AOh14GjnrxUa1ihLAGy0WbVku6ClyyAnQ2GApleXBVJ4=s64",
      "userId": "11200093688168956717"
     },
     "user_tz": 420
    },
    "id": "GOnGmbGRUls9",
    "outputId": "db00cea2-73d3-4d73-d7c6-f2883f4a0aac"
   },
   "outputs": [
    {
     "data": {
      "image/png": "[encoded data removed]",
      "text/plain": [
       "<Figure size 1080x720 with 6 Axes>"
      ]
     },
     "metadata": {
      "needs_background": "light"
     },
     "output_type": "display_data"
    }
   ],
   "source": [
    "plt.figure(figsize=(15,10))         #creating Box plots of various attributes\n",
    "for i in enumerate(feat):\n",
    "    plt.subplot(3,2,i[0]+1)\n",
    "    base_color = sns.color_palette()[i[0]]\n",
    "    sns.boxplot(x = d2[i[1]] , color = base_color)\n",
    "    plt.xlabel(i[1]);"
   ]
  },
  {
   "cell_type": "code",
   "execution_count": 40,
   "metadata": {
    "colab": {
     "base_uri": "https://localhost:8080/",
     "height": 606
    },
    "executionInfo": {
     "elapsed": 270,
     "status": "ok",
     "timestamp": 1623952154929,
     "user": {
      "displayName": "abhishek sharma",
      "photoUrl": "https://lh3.googleusercontent.com/a-/AOh14GjnrxUa1ihLAGy0WbVku6ClyyAnQ2GApleXBVJ4=s64",
      "userId": "11200093688168956717"
     },
     "user_tz": 420
    },
    "id": "wZTUBeCyU-Kv",
    "outputId": "8a3d673f-586c-4b16-c2fa-380f3643e3bd"
   },
   "outputs": [
    {
     "data": {
      "image/png": "[encoded data removed]",
      "text/plain": [
       "<Figure size 1080x720 with 6 Axes>"
      ]
     },
     "metadata": {
      "needs_background": "light"
     },
     "output_type": "display_data"
    }
   ],
   "source": [
    "plt.figure(figsize=(15,10))         #creating Violin plots of various attributes\n",
    "for i in enumerate(feat):\n",
    "    plt.subplot(3,2,i[0]+1)\n",
    "    base_color = sns.color_palette()[i[0]]\n",
    "    sns.violinplot(x = d2[i[1]] , color = base_color)\n",
    "    plt.xlabel(i[1]);"
   ]
  },
  {
   "cell_type": "code",
   "execution_count": 41,
   "metadata": {
    "colab": {
     "base_uri": "https://localhost:8080/",
     "height": 329
    },
    "executionInfo": {
     "elapsed": 264,
     "status": "ok",
     "timestamp": 1623952154931,
     "user": {
      "displayName": "abhishek sharma",
      "photoUrl": "https://lh3.googleusercontent.com/a-/AOh14GjnrxUa1ihLAGy0WbVku6ClyyAnQ2GApleXBVJ4=s64",
      "userId": "11200093688168956717"
     },
     "user_tz": 420
    },
    "id": "R9Eo9fU83r9I",
    "outputId": "c76b59ac-c3be-46f7-8ecd-858472a800d1"
   },
   "outputs": [
    {
     "data": {
      "text/plain": [
       "<AxesSubplot:>"
      ]
     },
     "execution_count": 41,
     "metadata": {},
     "output_type": "execute_result"
    },
    {
     "data": {
      "image/png": "[encoded data removed]",
      "text/plain": [
       "<Figure size 432x288 with 2 Axes>"
      ]
     },
     "metadata": {
      "needs_background": "light"
     },
     "output_type": "display_data"
    }
   ],
   "source": [
    "sns.heatmap(d2.corr() , vmin = -1 , vmax = 1 , annot = True , cmap = 'Paired_r')     #heat map to determine correlation"
   ]
  },
  {
   "cell_type": "markdown",
   "metadata": {
    "id": "CwfuYYiv3r9J"
   },
   "source": [
    "# AS SEEN THE PRESENCE OF OUTLIERS IN MSFT, SO SUPRESSING THEIR EFFECT"
   ]
  },
  {
   "cell_type": "code",
   "execution_count": 42,
   "metadata": {
    "colab": {
     "base_uri": "https://localhost:8080/"
    },
    "executionInfo": {
     "elapsed": 229,
     "status": "ok",
     "timestamp": 1623952154934,
     "user": {
      "displayName": "abhishek sharma",
      "photoUrl": "https://lh3.googleusercontent.com/a-/AOh14GjnrxUa1ihLAGy0WbVku6ClyyAnQ2GApleXBVJ4=s64",
      "userId": "11200093688168956717"
     },
     "user_tz": 420
    },
    "id": "HzMz0h_hp9L3",
    "outputId": "56df31cb-2c70-496e-e0aa-160e38dbd68e"
   },
   "outputs": [
    {
     "data": {
      "text/plain": [
       "32.88624954223633"
      ]
     },
     "execution_count": 42,
     "metadata": {},
     "output_type": "execute_result"
    }
   ],
   "source": [
    "iqr1 = d2['OPEN'].quantile(0.75) - d2['OPEN'].quantile(0.25) \n",
    "iqr1"
   ]
  },
  {
   "cell_type": "code",
   "execution_count": 43,
   "metadata": {
    "colab": {
     "base_uri": "https://localhost:8080/"
    },
    "executionInfo": {
     "elapsed": 218,
     "status": "ok",
     "timestamp": 1623952154937,
     "user": {
      "displayName": "abhishek sharma",
      "photoUrl": "https://lh3.googleusercontent.com/a-/AOh14GjnrxUa1ihLAGy0WbVku6ClyyAnQ2GApleXBVJ4=s64",
      "userId": "11200093688168956717"
     },
     "user_tz": 420
    },
    "id": "b15TJbUDp9L5",
    "outputId": "1640e98b-4400-4513-88de-87fa4373194a"
   },
   "outputs": [
    {
     "name": "stdout",
     "output_type": "stream",
     "text": [
      "86.05937385559082\n",
      "-45.48562431335449\n"
     ]
    }
   ],
   "source": [
    "upper_whisker = d2['OPEN'].quantile(0.75)+(iqr1*1.5)\n",
    "lower_whisker = d2['OPEN'].quantile(0.25)-(iqr1*1.5)\n",
    "print(upper_whisker)\n",
    "print(lower_whisker)"
   ]
  },
  {
   "cell_type": "code",
   "execution_count": 44,
   "metadata": {
    "colab": {
     "base_uri": "https://localhost:8080/"
    },
    "executionInfo": {
     "elapsed": 206,
     "status": "ok",
     "timestamp": 1623952154939,
     "user": {
      "displayName": "abhishek sharma",
      "photoUrl": "https://lh3.googleusercontent.com/a-/AOh14GjnrxUa1ihLAGy0WbVku6ClyyAnQ2GApleXBVJ4=s64",
      "userId": "11200093688168956717"
     },
     "user_tz": 420
    },
    "id": "CSwvO6szp9L6",
    "outputId": "4554fdc8-e652-439f-a320-4db55eba0910"
   },
   "outputs": [
    {
     "data": {
      "text/plain": [
       "32.80843687057495"
      ]
     },
     "execution_count": 44,
     "metadata": {},
     "output_type": "execute_result"
    }
   ],
   "source": [
    "iqr2 = d2['CLOSE'].quantile(0.75) - d2['CLOSE'].quantile(0.25) \n",
    "iqr2"
   ]
  },
  {
   "cell_type": "code",
   "execution_count": 45,
   "metadata": {
    "colab": {
     "base_uri": "https://localhost:8080/"
    },
    "executionInfo": {
     "elapsed": 193,
     "status": "ok",
     "timestamp": 1623952154942,
     "user": {
      "displayName": "abhishek sharma",
      "photoUrl": "https://lh3.googleusercontent.com/a-/AOh14GjnrxUa1ihLAGy0WbVku6ClyyAnQ2GApleXBVJ4=s64",
      "userId": "11200093688168956717"
     },
     "user_tz": 420
    },
    "id": "x3i8kq0Np9L6",
    "outputId": "aabde43e-9c84-48aa-c55b-15748b23fbcd"
   },
   "outputs": [
    {
     "name": "stdout",
     "output_type": "stream",
     "text": [
      "85.87265515327454\n",
      "-45.36109232902527\n"
     ]
    }
   ],
   "source": [
    "upper_whisker = d2['CLOSE'].quantile(0.75)+(iqr2*1.5)\n",
    "lower_whisker = d2['CLOSE'].quantile(0.25)-(iqr2*1.5)\n",
    "print(upper_whisker)\n",
    "print(lower_whisker)"
   ]
  },
  {
   "cell_type": "code",
   "execution_count": 46,
   "metadata": {
    "colab": {
     "base_uri": "https://localhost:8080/"
    },
    "executionInfo": {
     "elapsed": 180,
     "status": "ok",
     "timestamp": 1623952154944,
     "user": {
      "displayName": "abhishek sharma",
      "photoUrl": "https://lh3.googleusercontent.com/a-/AOh14GjnrxUa1ihLAGy0WbVku6ClyyAnQ2GApleXBVJ4=s64",
      "userId": "11200093688168956717"
     },
     "user_tz": 420
    },
    "id": "C9QC2OWvp9L7",
    "outputId": "0de9bed8-0af3-4559-b5ad-192f2247508a"
   },
   "outputs": [
    {
     "data": {
      "text/plain": [
       "33.125"
      ]
     },
     "execution_count": 46,
     "metadata": {},
     "output_type": "execute_result"
    }
   ],
   "source": [
    "iqr3 = d2['HIGH'].quantile(0.75) - d2['HIGH'].quantile(0.25) \n",
    "iqr3"
   ]
  },
  {
   "cell_type": "code",
   "execution_count": 47,
   "metadata": {
    "colab": {
     "base_uri": "https://localhost:8080/"
    },
    "executionInfo": {
     "elapsed": 169,
     "status": "ok",
     "timestamp": 1623952154947,
     "user": {
      "displayName": "abhishek sharma",
      "photoUrl": "https://lh3.googleusercontent.com/a-/AOh14GjnrxUa1ihLAGy0WbVku6ClyyAnQ2GApleXBVJ4=s64",
      "userId": "11200093688168956717"
     },
     "user_tz": 420
    },
    "id": "lB65LUZ9p9L8",
    "outputId": "a2fbe847-c589-4b8a-b2fd-bcea99fdf067"
   },
   "outputs": [
    {
     "name": "stdout",
     "output_type": "stream",
     "text": [
      "86.6875\n",
      "-45.8125\n"
     ]
    }
   ],
   "source": [
    "upper_whisker = d2['HIGH'].quantile(0.75)+(iqr3*1.5)\n",
    "lower_whisker = d2['HIGH'].quantile(0.25)-(iqr3*1.5)\n",
    "print(upper_whisker)\n",
    "print(lower_whisker)"
   ]
  },
  {
   "cell_type": "code",
   "execution_count": 48,
   "metadata": {
    "colab": {
     "base_uri": "https://localhost:8080/"
    },
    "executionInfo": {
     "elapsed": 158,
     "status": "ok",
     "timestamp": 1623952154950,
     "user": {
      "displayName": "abhishek sharma",
      "photoUrl": "https://lh3.googleusercontent.com/a-/AOh14GjnrxUa1ihLAGy0WbVku6ClyyAnQ2GApleXBVJ4=s64",
      "userId": "11200093688168956717"
     },
     "user_tz": 420
    },
    "id": "kRoezMIvp9L9",
    "outputId": "962eabbc-de2d-439d-f890-894d9c4c1562"
   },
   "outputs": [
    {
     "data": {
      "text/plain": [
       "32.29750061035156"
      ]
     },
     "execution_count": 48,
     "metadata": {},
     "output_type": "execute_result"
    }
   ],
   "source": [
    "iqr4 = d2['LOW'].quantile(0.75) - d2['LOW'].quantile(0.25) \n",
    "iqr4"
   ]
  },
  {
   "cell_type": "code",
   "execution_count": 49,
   "metadata": {
    "colab": {
     "base_uri": "https://localhost:8080/"
    },
    "executionInfo": {
     "elapsed": 147,
     "status": "ok",
     "timestamp": 1623952154952,
     "user": {
      "displayName": "abhishek sharma",
      "photoUrl": "https://lh3.googleusercontent.com/a-/AOh14GjnrxUa1ihLAGy0WbVku6ClyyAnQ2GApleXBVJ4=s64",
      "userId": "11200093688168956717"
     },
     "user_tz": 420
    },
    "id": "-Mn0g7XAp9L-",
    "outputId": "06329e0a-d05b-4cf8-9196-3822f47cf7e2"
   },
   "outputs": [
    {
     "name": "stdout",
     "output_type": "stream",
     "text": [
      "84.5562515258789\n",
      "-44.633750915527344\n"
     ]
    }
   ],
   "source": [
    "upper_whisker = d2['LOW'].quantile(0.75)+(iqr4*1.5)\n",
    "lower_whisker = d2['LOW'].quantile(0.25)-(iqr4*1.5)\n",
    "print(upper_whisker)\n",
    "print(lower_whisker)"
   ]
  },
  {
   "cell_type": "code",
   "execution_count": 50,
   "metadata": {
    "colab": {
     "base_uri": "https://localhost:8080/"
    },
    "executionInfo": {
     "elapsed": 136,
     "status": "ok",
     "timestamp": 1623952154955,
     "user": {
      "displayName": "abhishek sharma",
      "photoUrl": "https://lh3.googleusercontent.com/a-/AOh14GjnrxUa1ihLAGy0WbVku6ClyyAnQ2GApleXBVJ4=s64",
      "userId": "11200093688168956717"
     },
     "user_tz": 420
    },
    "id": "ZHsI4VcLp9L-",
    "outputId": "c8efc46a-5d45-45b6-e8d4-2a92a4420d32"
   },
   "outputs": [
    {
     "data": {
      "text/plain": [
       "24.771977186203003"
      ]
     },
     "execution_count": 50,
     "metadata": {},
     "output_type": "execute_result"
    }
   ],
   "source": [
    "iqr5 = d2['ADJ CLOSE'].quantile(0.75) - d2['ADJ CLOSE'].quantile(0.25) \n",
    "iqr5"
   ]
  },
  {
   "cell_type": "code",
   "execution_count": 51,
   "metadata": {
    "colab": {
     "base_uri": "https://localhost:8080/"
    },
    "executionInfo": {
     "elapsed": 125,
     "status": "ok",
     "timestamp": 1623952154957,
     "user": {
      "displayName": "abhishek sharma",
      "photoUrl": "https://lh3.googleusercontent.com/a-/AOh14GjnrxUa1ihLAGy0WbVku6ClyyAnQ2GApleXBVJ4=s64",
      "userId": "11200093688168956717"
     },
     "user_tz": 420
    },
    "id": "GycE4NrIp9MA",
    "outputId": "468915a2-6776-41a0-bcda-beb4eecd8298"
   },
   "outputs": [
    {
     "name": "stdout",
     "output_type": "stream",
     "text": [
      "64.37626564502716\n",
      "-34.71164309978485\n"
     ]
    }
   ],
   "source": [
    "upper_whisker = d2['ADJ CLOSE'].quantile(0.75)+(iqr5*1.5)\n",
    "lower_whisker = d2['ADJ CLOSE'].quantile(0.25)-(iqr5*1.5)\n",
    "print(upper_whisker)\n",
    "print(lower_whisker)"
   ]
  },
  {
   "cell_type": "code",
   "execution_count": 52,
   "metadata": {
    "colab": {
     "base_uri": "https://localhost:8080/"
    },
    "executionInfo": {
     "elapsed": 114,
     "status": "ok",
     "timestamp": 1623952154959,
     "user": {
      "displayName": "abhishek sharma",
      "photoUrl": "https://lh3.googleusercontent.com/a-/AOh14GjnrxUa1ihLAGy0WbVku6ClyyAnQ2GApleXBVJ4=s64",
      "userId": "11200093688168956717"
     },
     "user_tz": 420
    },
    "id": "7K1zldI9p9MB",
    "outputId": "ddb118ba-027e-461e-cc03-715066f7260a"
   },
   "outputs": [
    {
     "data": {
      "text/plain": [
       "37798000.0"
      ]
     },
     "execution_count": 52,
     "metadata": {},
     "output_type": "execute_result"
    }
   ],
   "source": [
    "iqr6 = d2['VOLUME'].quantile(0.75) - d2['VOLUME'].quantile(0.25) \n",
    "iqr6"
   ]
  },
  {
   "cell_type": "code",
   "execution_count": 53,
   "metadata": {
    "colab": {
     "base_uri": "https://localhost:8080/"
    },
    "executionInfo": {
     "elapsed": 103,
     "status": "ok",
     "timestamp": 1623952154962,
     "user": {
      "displayName": "abhishek sharma",
      "photoUrl": "https://lh3.googleusercontent.com/a-/AOh14GjnrxUa1ihLAGy0WbVku6ClyyAnQ2GApleXBVJ4=s64",
      "userId": "11200093688168956717"
     },
     "user_tz": 420
    },
    "id": "uJqPlefmp9MC",
    "outputId": "71aa7e42-82b5-459e-fda8-15ce8b48557f"
   },
   "outputs": [
    {
     "name": "stdout",
     "output_type": "stream",
     "text": [
      "130092200.0\n",
      "-21099800.0\n"
     ]
    }
   ],
   "source": [
    "upper_whisker = d2['VOLUME'].quantile(0.75)+(iqr6*1.5)\n",
    "lower_whisker = d2['VOLUME'].quantile(0.25)-(iqr6*1.5)\n",
    "print(upper_whisker)\n",
    "print(lower_whisker)"
   ]
  },
  {
   "cell_type": "code",
   "execution_count": 54,
   "metadata": {
    "executionInfo": {
     "elapsed": 94,
     "status": "ok",
     "timestamp": 1623952154966,
     "user": {
      "displayName": "abhishek sharma",
      "photoUrl": "https://lh3.googleusercontent.com/a-/AOh14GjnrxUa1ihLAGy0WbVku6ClyyAnQ2GApleXBVJ4=s64",
      "userId": "11200093688168956717"
     },
     "user_tz": 420
    },
    "id": "1Lp9SKbep9MD"
   },
   "outputs": [],
   "source": [
    "d2.loc[d2['OPEN'] >= 86.05937385559082 , 'OPEN'] = 86.05937385559082\n",
    "d2.loc[d2['CLOSE'] >= 85.87265515327454 , 'CLOSE'] = 85.87265515327454\n",
    "d2.loc[d2['HIGH'] >= 86.6875 , 'HIGH'] = 86.6875\n",
    "d2.loc[d2['LOW'] >= 84.5562515258789 , 'LOW'] = 84.5562515258789\n",
    "d2.loc[d2['ADJ CLOSE'] >= 64.37626564502716 , 'ADJ CLOSE'] = 64.37626564502716\n",
    "d2.loc[d2['VOLUME'] >= 130092200.0 , 'VOLUME'] = 130092200.0"
   ]
  },
  {
   "cell_type": "code",
   "execution_count": 55,
   "metadata": {
    "colab": {
     "base_uri": "https://localhost:8080/",
     "height": 297
    },
    "executionInfo": {
     "elapsed": 97,
     "status": "ok",
     "timestamp": 1623952154971,
     "user": {
      "displayName": "abhishek sharma",
      "photoUrl": "https://lh3.googleusercontent.com/a-/AOh14GjnrxUa1ihLAGy0WbVku6ClyyAnQ2GApleXBVJ4=s64",
      "userId": "11200093688168956717"
     },
     "user_tz": 420
    },
    "id": "owwam5srp9MD",
    "outputId": "b020cfbb-c0e1-4338-e333-f34969388811"
   },
   "outputs": [
    {
     "data": {
      "text/html": [
       "<div>\n",
       "<style scoped>\n",
       "    .dataframe tbody tr th:only-of-type {\n",
       "        vertical-align: middle;\n",
       "    }\n",
       "\n",
       "    .dataframe tbody tr th {\n",
       "        vertical-align: top;\n",
       "    }\n",
       "\n",
       "    .dataframe thead th {\n",
       "        text-align: right;\n",
       "    }\n",
       "</style>\n",
       "<table border=\"1\" class=\"dataframe\">\n",
       "  <thead>\n",
       "    <tr style=\"text-align: right;\">\n",
       "      <th></th>\n",
       "      <th>OPEN</th>\n",
       "      <th>HIGH</th>\n",
       "      <th>LOW</th>\n",
       "      <th>CLOSE</th>\n",
       "      <th>ADJ CLOSE</th>\n",
       "      <th>VOLUME</th>\n",
       "    </tr>\n",
       "  </thead>\n",
       "  <tbody>\n",
       "    <tr>\n",
       "      <th>count</th>\n",
       "      <td>8857.000000</td>\n",
       "      <td>8857.000000</td>\n",
       "      <td>8857.000000</td>\n",
       "      <td>8857.000000</td>\n",
       "      <td>8857.000000</td>\n",
       "      <td>8.857000e+03</td>\n",
       "    </tr>\n",
       "    <tr>\n",
       "      <th>mean</th>\n",
       "      <td>28.668768</td>\n",
       "      <td>28.957282</td>\n",
       "      <td>28.299462</td>\n",
       "      <td>28.656075</td>\n",
       "      <td>21.736316</td>\n",
       "      <td>5.753293e+07</td>\n",
       "    </tr>\n",
       "    <tr>\n",
       "      <th>std</th>\n",
       "      <td>25.343716</td>\n",
       "      <td>25.530864</td>\n",
       "      <td>24.964792</td>\n",
       "      <td>25.305929</td>\n",
       "      <td>20.154263</td>\n",
       "      <td>2.896535e+07</td>\n",
       "    </tr>\n",
       "    <tr>\n",
       "      <th>min</th>\n",
       "      <td>0.088542</td>\n",
       "      <td>0.092014</td>\n",
       "      <td>0.088542</td>\n",
       "      <td>0.090278</td>\n",
       "      <td>0.057340</td>\n",
       "      <td>2.304000e+06</td>\n",
       "    </tr>\n",
       "    <tr>\n",
       "      <th>25%</th>\n",
       "      <td>3.843750</td>\n",
       "      <td>3.875000</td>\n",
       "      <td>3.812500</td>\n",
       "      <td>3.851563</td>\n",
       "      <td>2.446323</td>\n",
       "      <td>3.559720e+07</td>\n",
       "    </tr>\n",
       "    <tr>\n",
       "      <th>50%</th>\n",
       "      <td>26.590000</td>\n",
       "      <td>26.879999</td>\n",
       "      <td>26.290001</td>\n",
       "      <td>26.590000</td>\n",
       "      <td>18.686628</td>\n",
       "      <td>5.269680e+07</td>\n",
       "    </tr>\n",
       "    <tr>\n",
       "      <th>75%</th>\n",
       "      <td>36.730000</td>\n",
       "      <td>37.000000</td>\n",
       "      <td>36.110001</td>\n",
       "      <td>36.660000</td>\n",
       "      <td>27.218300</td>\n",
       "      <td>7.339520e+07</td>\n",
       "    </tr>\n",
       "    <tr>\n",
       "      <th>max</th>\n",
       "      <td>86.059374</td>\n",
       "      <td>86.687500</td>\n",
       "      <td>84.556252</td>\n",
       "      <td>85.872655</td>\n",
       "      <td>64.376266</td>\n",
       "      <td>1.300922e+08</td>\n",
       "    </tr>\n",
       "  </tbody>\n",
       "</table>\n",
       "</div>"
      ],
      "text/plain": [
       "              OPEN         HIGH          LOW        CLOSE    ADJ CLOSE  \\\n",
       "count  8857.000000  8857.000000  8857.000000  8857.000000  8857.000000   \n",
       "mean     28.668768    28.957282    28.299462    28.656075    21.736316   \n",
       "std      25.343716    25.530864    24.964792    25.305929    20.154263   \n",
       "min       0.088542     0.092014     0.088542     0.090278     0.057340   \n",
       "25%       3.843750     3.875000     3.812500     3.851563     2.446323   \n",
       "50%      26.590000    26.879999    26.290001    26.590000    18.686628   \n",
       "75%      36.730000    37.000000    36.110001    36.660000    27.218300   \n",
       "max      86.059374    86.687500    84.556252    85.872655    64.376266   \n",
       "\n",
       "             VOLUME  \n",
       "count  8.857000e+03  \n",
       "mean   5.753293e+07  \n",
       "std    2.896535e+07  \n",
       "min    2.304000e+06  \n",
       "25%    3.559720e+07  \n",
       "50%    5.269680e+07  \n",
       "75%    7.339520e+07  \n",
       "max    1.300922e+08  "
      ]
     },
     "execution_count": 55,
     "metadata": {},
     "output_type": "execute_result"
    }
   ],
   "source": [
    "d2.describe()"
   ]
  },
  {
   "cell_type": "code",
   "execution_count": 56,
   "metadata": {
    "colab": {
     "base_uri": "https://localhost:8080/"
    },
    "executionInfo": {
     "elapsed": 96,
     "status": "ok",
     "timestamp": 1623952154974,
     "user": {
      "displayName": "abhishek sharma",
      "photoUrl": "https://lh3.googleusercontent.com/a-/AOh14GjnrxUa1ihLAGy0WbVku6ClyyAnQ2GApleXBVJ4=s64",
      "userId": "11200093688168956717"
     },
     "user_tz": 420
    },
    "id": "vYQRNvM4p9MI",
    "outputId": "25b11736-4189-4a2a-e60b-7eecac81d1c3"
   },
   "outputs": [
    {
     "data": {
      "text/plain": [
       "[(0, 'OPEN'),\n",
       " (1, 'HIGH'),\n",
       " (2, 'LOW'),\n",
       " (3, 'CLOSE'),\n",
       " (4, 'ADJ CLOSE'),\n",
       " (5, 'VOLUME')]"
      ]
     },
     "execution_count": 56,
     "metadata": {},
     "output_type": "execute_result"
    }
   ],
   "source": [
    "l = ['OPEN' , 'HIGH' , 'LOW' , 'CLOSE' , 'ADJ CLOSE' , 'VOLUME']\n",
    "list(enumerate(l))"
   ]
  },
  {
   "cell_type": "code",
   "execution_count": 57,
   "metadata": {
    "colab": {
     "base_uri": "https://localhost:8080/",
     "height": 714
    },
    "executionInfo": {
     "elapsed": 3709,
     "status": "ok",
     "timestamp": 1623952158602,
     "user": {
      "displayName": "abhishek sharma",
      "photoUrl": "https://lh3.googleusercontent.com/a-/AOh14GjnrxUa1ihLAGy0WbVku6ClyyAnQ2GApleXBVJ4=s64",
      "userId": "11200093688168956717"
     },
     "user_tz": 420
    },
    "id": "zmW485bRp9MJ",
    "outputId": "ad2058ae-4b34-4a52-f41a-2465f8063aad"
   },
   "outputs": [
    {
     "data": {
      "image/png": "[encoded data removed]",
      "text/plain": [
       "<Figure size 1080x864 with 6 Axes>"
      ]
     },
     "metadata": {
      "needs_background": "light"
     },
     "output_type": "display_data"
    }
   ],
   "source": [
    "plt.figure(figsize=(15,12))#creating Box plots of various columns after removing outliers\n",
    "for i in enumerate(l):\n",
    "    plt.subplot(3,2,i[0]+1)\n",
    "    base_color = sns.color_palette()[i[0]]\n",
    "    sns.boxplot(x = d2[i[1]] , color = base_color)\n",
    "    plt.xlabel(i[1]);"
   ]
  },
  {
   "cell_type": "code",
   "execution_count": 58,
   "metadata": {
    "colab": {
     "base_uri": "https://localhost:8080/"
    },
    "executionInfo": {
     "elapsed": 339,
     "status": "ok",
     "timestamp": 1623952158605,
     "user": {
      "displayName": "abhishek sharma",
      "photoUrl": "https://lh3.googleusercontent.com/a-/AOh14GjnrxUa1ihLAGy0WbVku6ClyyAnQ2GApleXBVJ4=s64",
      "userId": "11200093688168956717"
     },
     "user_tz": 420
    },
    "id": "UlHYa3WFp9MJ",
    "outputId": "c4d23ec5-98da-4553-8e88-2dd98b493c8d"
   },
   "outputs": [
    {
     "data": {
      "text/plain": [
       "Index(['TYPE', 'DATE', 'TIME', 'OPEN', 'HIGH', 'LOW', 'CLOSE'], dtype='object')"
      ]
     },
     "execution_count": 58,
     "metadata": {},
     "output_type": "execute_result"
    }
   ],
   "source": [
    "data.columns"
   ]
  },
  {
   "cell_type": "code",
   "execution_count": 59,
   "metadata": {
    "colab": {
     "base_uri": "https://localhost:8080/"
    },
    "executionInfo": {
     "elapsed": 320,
     "status": "ok",
     "timestamp": 1623952158608,
     "user": {
      "displayName": "abhishek sharma",
      "photoUrl": "https://lh3.googleusercontent.com/a-/AOh14GjnrxUa1ihLAGy0WbVku6ClyyAnQ2GApleXBVJ4=s64",
      "userId": "11200093688168956717"
     },
     "user_tz": 420
    },
    "id": "EAiTfJ41p9MK",
    "outputId": "cb0587e1-0176-4208-d7aa-7a6eefc7cfb2"
   },
   "outputs": [
    {
     "data": {
      "text/plain": [
       "NIFTY    22805\n",
       "Name: TYPE, dtype: int64"
      ]
     },
     "execution_count": 59,
     "metadata": {},
     "output_type": "execute_result"
    }
   ],
   "source": [
    "data['TYPE'].value_counts()"
   ]
  },
  {
   "cell_type": "code",
   "execution_count": 60,
   "metadata": {
    "executionInfo": {
     "elapsed": 308,
     "status": "ok",
     "timestamp": 1623952158613,
     "user": {
      "displayName": "abhishek sharma",
      "photoUrl": "https://lh3.googleusercontent.com/a-/AOh14GjnrxUa1ihLAGy0WbVku6ClyyAnQ2GApleXBVJ4=s64",
      "userId": "11200093688168956717"
     },
     "user_tz": 420
    },
    "id": "Swc8oEkKp9ML"
   },
   "outputs": [],
   "source": [
    "data.drop(['TYPE'],axis=1,inplace=True)"
   ]
  },
  {
   "cell_type": "code",
   "execution_count": 61,
   "metadata": {
    "colab": {
     "base_uri": "https://localhost:8080/",
     "height": 204
    },
    "executionInfo": {
     "elapsed": 310,
     "status": "ok",
     "timestamp": 1623952158616,
     "user": {
      "displayName": "abhishek sharma",
      "photoUrl": "https://lh3.googleusercontent.com/a-/AOh14GjnrxUa1ihLAGy0WbVku6ClyyAnQ2GApleXBVJ4=s64",
      "userId": "11200093688168956717"
     },
     "user_tz": 420
    },
    "id": "vz7OLMtrp9ML",
    "outputId": "53fff9a9-c6fc-4b2a-fb9c-c1de990d6bf3"
   },
   "outputs": [
    {
     "data": {
      "text/html": [
       "<div>\n",
       "<style scoped>\n",
       "    .dataframe tbody tr th:only-of-type {\n",
       "        vertical-align: middle;\n",
       "    }\n",
       "\n",
       "    .dataframe tbody tr th {\n",
       "        vertical-align: top;\n",
       "    }\n",
       "\n",
       "    .dataframe thead th {\n",
       "        text-align: right;\n",
       "    }\n",
       "</style>\n",
       "<table border=\"1\" class=\"dataframe\">\n",
       "  <thead>\n",
       "    <tr style=\"text-align: right;\">\n",
       "      <th></th>\n",
       "      <th>DATE</th>\n",
       "      <th>TIME</th>\n",
       "      <th>OPEN</th>\n",
       "      <th>HIGH</th>\n",
       "      <th>LOW</th>\n",
       "      <th>CLOSE</th>\n",
       "    </tr>\n",
       "  </thead>\n",
       "  <tbody>\n",
       "    <tr>\n",
       "      <th>0</th>\n",
       "      <td>2021-01-01</td>\n",
       "      <td>09:16</td>\n",
       "      <td>13997.90</td>\n",
       "      <td>14020.85</td>\n",
       "      <td>13991.35</td>\n",
       "      <td>14013.15</td>\n",
       "    </tr>\n",
       "    <tr>\n",
       "      <th>1</th>\n",
       "      <td>2021-01-01</td>\n",
       "      <td>09:17</td>\n",
       "      <td>14014.85</td>\n",
       "      <td>14018.55</td>\n",
       "      <td>14008.15</td>\n",
       "      <td>14009.05</td>\n",
       "    </tr>\n",
       "    <tr>\n",
       "      <th>2</th>\n",
       "      <td>2021-01-01</td>\n",
       "      <td>09:18</td>\n",
       "      <td>14008.05</td>\n",
       "      <td>14013.10</td>\n",
       "      <td>14005.05</td>\n",
       "      <td>14012.70</td>\n",
       "    </tr>\n",
       "    <tr>\n",
       "      <th>3</th>\n",
       "      <td>2021-01-01</td>\n",
       "      <td>09:19</td>\n",
       "      <td>14013.65</td>\n",
       "      <td>14019.10</td>\n",
       "      <td>14013.65</td>\n",
       "      <td>14016.20</td>\n",
       "    </tr>\n",
       "    <tr>\n",
       "      <th>4</th>\n",
       "      <td>2021-01-01</td>\n",
       "      <td>09:20</td>\n",
       "      <td>14015.45</td>\n",
       "      <td>14017.80</td>\n",
       "      <td>14011.95</td>\n",
       "      <td>14015.45</td>\n",
       "    </tr>\n",
       "  </tbody>\n",
       "</table>\n",
       "</div>"
      ],
      "text/plain": [
       "        DATE   TIME      OPEN      HIGH       LOW     CLOSE\n",
       "0 2021-01-01  09:16  13997.90  14020.85  13991.35  14013.15\n",
       "1 2021-01-01  09:17  14014.85  14018.55  14008.15  14009.05\n",
       "2 2021-01-01  09:18  14008.05  14013.10  14005.05  14012.70\n",
       "3 2021-01-01  09:19  14013.65  14019.10  14013.65  14016.20\n",
       "4 2021-01-01  09:20  14015.45  14017.80  14011.95  14015.45"
      ]
     },
     "execution_count": 61,
     "metadata": {},
     "output_type": "execute_result"
    }
   ],
   "source": [
    "data.head()"
   ]
  },
  {
   "cell_type": "code",
   "execution_count": 62,
   "metadata": {
    "executionInfo": {
     "elapsed": 309,
     "status": "ok",
     "timestamp": 1623952158619,
     "user": {
      "displayName": "abhishek sharma",
      "photoUrl": "https://lh3.googleusercontent.com/a-/AOh14GjnrxUa1ihLAGy0WbVku6ClyyAnQ2GApleXBVJ4=s64",
      "userId": "11200093688168956717"
     },
     "user_tz": 420
    },
    "id": "JE1vf8z4p9MM"
   },
   "outputs": [],
   "source": [
    "data['DAY']=pd.to_datetime(data.DATE, format=\"%Y/%m/%d\").dt.day"
   ]
  },
  {
   "cell_type": "code",
   "execution_count": 63,
   "metadata": {
    "executionInfo": {
     "elapsed": 310,
     "status": "ok",
     "timestamp": 1623952158622,
     "user": {
      "displayName": "abhishek sharma",
      "photoUrl": "https://lh3.googleusercontent.com/a-/AOh14GjnrxUa1ihLAGy0WbVku6ClyyAnQ2GApleXBVJ4=s64",
      "userId": "11200093688168956717"
     },
     "user_tz": 420
    },
    "id": "AhcCovsWp9MM"
   },
   "outputs": [],
   "source": [
    "data['month']=pd.to_datetime(data['DATE'], format='%Y/%m/%d').dt.month"
   ]
  },
  {
   "cell_type": "code",
   "execution_count": 64,
   "metadata": {
    "executionInfo": {
     "elapsed": 312,
     "status": "ok",
     "timestamp": 1623952158626,
     "user": {
      "displayName": "abhishek sharma",
      "photoUrl": "https://lh3.googleusercontent.com/a-/AOh14GjnrxUa1ihLAGy0WbVku6ClyyAnQ2GApleXBVJ4=s64",
      "userId": "11200093688168956717"
     },
     "user_tz": 420
    },
    "id": "bscGP7PIp9MN"
   },
   "outputs": [],
   "source": [
    "data['YEAR']=pd.to_datetime(data['DATE'], format='%Y/%m/%d').dt.year"
   ]
  },
  {
   "cell_type": "code",
   "execution_count": 65,
   "metadata": {
    "executionInfo": {
     "elapsed": 313,
     "status": "ok",
     "timestamp": 1623952158629,
     "user": {
      "displayName": "abhishek sharma",
      "photoUrl": "https://lh3.googleusercontent.com/a-/AOh14GjnrxUa1ihLAGy0WbVku6ClyyAnQ2GApleXBVJ4=s64",
      "userId": "11200093688168956717"
     },
     "user_tz": 420
    },
    "id": "ddFuleFDp9MN"
   },
   "outputs": [],
   "source": [
    "data.drop(['DATE'],axis=1,inplace=True)"
   ]
  },
  {
   "cell_type": "code",
   "execution_count": 66,
   "metadata": {
    "executionInfo": {
     "elapsed": 316,
     "status": "ok",
     "timestamp": 1623952158633,
     "user": {
      "displayName": "abhishek sharma",
      "photoUrl": "https://lh3.googleusercontent.com/a-/AOh14GjnrxUa1ihLAGy0WbVku6ClyyAnQ2GApleXBVJ4=s64",
      "userId": "11200093688168956717"
     },
     "user_tz": 420
    },
    "id": "HY_Cm_6Lp9MO"
   },
   "outputs": [],
   "source": [
    "data['Time_hour']=pd.to_datetime(data['TIME']).dt.hour"
   ]
  },
  {
   "cell_type": "code",
   "execution_count": 67,
   "metadata": {
    "executionInfo": {
     "elapsed": 320,
     "status": "ok",
     "timestamp": 1623952158639,
     "user": {
      "displayName": "abhishek sharma",
      "photoUrl": "https://lh3.googleusercontent.com/a-/AOh14GjnrxUa1ihLAGy0WbVku6ClyyAnQ2GApleXBVJ4=s64",
      "userId": "11200093688168956717"
     },
     "user_tz": 420
    },
    "id": "TF5YaS8tp9MO"
   },
   "outputs": [],
   "source": [
    "data['time_minute']=pd.to_datetime(data['TIME']).dt.minute\n"
   ]
  },
  {
   "cell_type": "code",
   "execution_count": 68,
   "metadata": {
    "executionInfo": {
     "elapsed": 324,
     "status": "ok",
     "timestamp": 1623952158644,
     "user": {
      "displayName": "abhishek sharma",
      "photoUrl": "https://lh3.googleusercontent.com/a-/AOh14GjnrxUa1ihLAGy0WbVku6ClyyAnQ2GApleXBVJ4=s64",
      "userId": "11200093688168956717"
     },
     "user_tz": 420
    },
    "id": "bZ19KG5vp9MP"
   },
   "outputs": [],
   "source": [
    "data.drop(['TIME'],axis=1,inplace=True)"
   ]
  },
  {
   "cell_type": "code",
   "execution_count": 69,
   "metadata": {
    "colab": {
     "base_uri": "https://localhost:8080/",
     "height": 204
    },
    "executionInfo": {
     "elapsed": 326,
     "status": "ok",
     "timestamp": 1623952158648,
     "user": {
      "displayName": "abhishek sharma",
      "photoUrl": "https://lh3.googleusercontent.com/a-/AOh14GjnrxUa1ihLAGy0WbVku6ClyyAnQ2GApleXBVJ4=s64",
      "userId": "11200093688168956717"
     },
     "user_tz": 420
    },
    "id": "Zev6swZbp9MP",
    "outputId": "ebe8ce43-743a-4e85-b091-46a41b9e5e01"
   },
   "outputs": [
    {
     "data": {
      "text/html": [
       "<div>\n",
       "<style scoped>\n",
       "    .dataframe tbody tr th:only-of-type {\n",
       "        vertical-align: middle;\n",
       "    }\n",
       "\n",
       "    .dataframe tbody tr th {\n",
       "        vertical-align: top;\n",
       "    }\n",
       "\n",
       "    .dataframe thead th {\n",
       "        text-align: right;\n",
       "    }\n",
       "</style>\n",
       "<table border=\"1\" class=\"dataframe\">\n",
       "  <thead>\n",
       "    <tr style=\"text-align: right;\">\n",
       "      <th></th>\n",
       "      <th>OPEN</th>\n",
       "      <th>HIGH</th>\n",
       "      <th>LOW</th>\n",
       "      <th>CLOSE</th>\n",
       "      <th>DAY</th>\n",
       "      <th>month</th>\n",
       "      <th>YEAR</th>\n",
       "      <th>Time_hour</th>\n",
       "      <th>time_minute</th>\n",
       "    </tr>\n",
       "  </thead>\n",
       "  <tbody>\n",
       "    <tr>\n",
       "      <th>0</th>\n",
       "      <td>13997.90</td>\n",
       "      <td>14020.85</td>\n",
       "      <td>13991.35</td>\n",
       "      <td>14013.15</td>\n",
       "      <td>1</td>\n",
       "      <td>1</td>\n",
       "      <td>2021</td>\n",
       "      <td>9</td>\n",
       "      <td>16</td>\n",
       "    </tr>\n",
       "    <tr>\n",
       "      <th>1</th>\n",
       "      <td>14014.85</td>\n",
       "      <td>14018.55</td>\n",
       "      <td>14008.15</td>\n",
       "      <td>14009.05</td>\n",
       "      <td>1</td>\n",
       "      <td>1</td>\n",
       "      <td>2021</td>\n",
       "      <td>9</td>\n",
       "      <td>17</td>\n",
       "    </tr>\n",
       "    <tr>\n",
       "      <th>2</th>\n",
       "      <td>14008.05</td>\n",
       "      <td>14013.10</td>\n",
       "      <td>14005.05</td>\n",
       "      <td>14012.70</td>\n",
       "      <td>1</td>\n",
       "      <td>1</td>\n",
       "      <td>2021</td>\n",
       "      <td>9</td>\n",
       "      <td>18</td>\n",
       "    </tr>\n",
       "    <tr>\n",
       "      <th>3</th>\n",
       "      <td>14013.65</td>\n",
       "      <td>14019.10</td>\n",
       "      <td>14013.65</td>\n",
       "      <td>14016.20</td>\n",
       "      <td>1</td>\n",
       "      <td>1</td>\n",
       "      <td>2021</td>\n",
       "      <td>9</td>\n",
       "      <td>19</td>\n",
       "    </tr>\n",
       "    <tr>\n",
       "      <th>4</th>\n",
       "      <td>14015.45</td>\n",
       "      <td>14017.80</td>\n",
       "      <td>14011.95</td>\n",
       "      <td>14015.45</td>\n",
       "      <td>1</td>\n",
       "      <td>1</td>\n",
       "      <td>2021</td>\n",
       "      <td>9</td>\n",
       "      <td>20</td>\n",
       "    </tr>\n",
       "  </tbody>\n",
       "</table>\n",
       "</div>"
      ],
      "text/plain": [
       "       OPEN      HIGH       LOW     CLOSE  DAY  month  YEAR  Time_hour  \\\n",
       "0  13997.90  14020.85  13991.35  14013.15    1      1  2021          9   \n",
       "1  14014.85  14018.55  14008.15  14009.05    1      1  2021          9   \n",
       "2  14008.05  14013.10  14005.05  14012.70    1      1  2021          9   \n",
       "3  14013.65  14019.10  14013.65  14016.20    1      1  2021          9   \n",
       "4  14015.45  14017.80  14011.95  14015.45    1      1  2021          9   \n",
       "\n",
       "   time_minute  \n",
       "0           16  \n",
       "1           17  \n",
       "2           18  \n",
       "3           19  \n",
       "4           20  "
      ]
     },
     "execution_count": 69,
     "metadata": {},
     "output_type": "execute_result"
    }
   ],
   "source": [
    "data.head()"
   ]
  },
  {
   "cell_type": "markdown",
   "metadata": {
    "id": "4gwnAIF3p9MQ"
   },
   "source": [
    "# MSFT"
   ]
  },
  {
   "cell_type": "code",
   "execution_count": 70,
   "metadata": {
    "executionInfo": {
     "elapsed": 327,
     "status": "ok",
     "timestamp": 1623952158652,
     "user": {
      "displayName": "abhishek sharma",
      "photoUrl": "https://lh3.googleusercontent.com/a-/AOh14GjnrxUa1ihLAGy0WbVku6ClyyAnQ2GApleXBVJ4=s64",
      "userId": "11200093688168956717"
     },
     "user_tz": 420
    },
    "id": "c-i13URgp9MR"
   },
   "outputs": [],
   "source": [
    "df2['DAY']=pd.to_datetime(df2.DATE, format=\"%Y/%m/%d\").dt.day\n",
    "\n",
    "df2['month']=pd.to_datetime(df2['DATE'], format='%Y/%m/%d').dt.month\n",
    "\n",
    "df2['YEAR']=pd.to_datetime(df2['DATE'], format='%Y/%m/%d').dt.year"
   ]
  },
  {
   "cell_type": "code",
   "execution_count": 71,
   "metadata": {
    "executionInfo": {
     "elapsed": 327,
     "status": "ok",
     "timestamp": 1623952158654,
     "user": {
      "displayName": "abhishek sharma",
      "photoUrl": "https://lh3.googleusercontent.com/a-/AOh14GjnrxUa1ihLAGy0WbVku6ClyyAnQ2GApleXBVJ4=s64",
      "userId": "11200093688168956717"
     },
     "user_tz": 420
    },
    "id": "_rhWGA83p9MS"
   },
   "outputs": [],
   "source": [
    "df2.drop(['DATE'],axis=1,inplace=True)"
   ]
  },
  {
   "cell_type": "code",
   "execution_count": 72,
   "metadata": {
    "colab": {
     "base_uri": "https://localhost:8080/",
     "height": 204
    },
    "executionInfo": {
     "elapsed": 328,
     "status": "ok",
     "timestamp": 1623952158656,
     "user": {
      "displayName": "abhishek sharma",
      "photoUrl": "https://lh3.googleusercontent.com/a-/AOh14GjnrxUa1ihLAGy0WbVku6ClyyAnQ2GApleXBVJ4=s64",
      "userId": "11200093688168956717"
     },
     "user_tz": 420
    },
    "id": "CycWRN4Ep9MS",
    "outputId": "0aa6b005-408d-4486-b7cb-c8b6c063bd08"
   },
   "outputs": [
    {
     "data": {
      "text/html": [
       "<div>\n",
       "<style scoped>\n",
       "    .dataframe tbody tr th:only-of-type {\n",
       "        vertical-align: middle;\n",
       "    }\n",
       "\n",
       "    .dataframe tbody tr th {\n",
       "        vertical-align: top;\n",
       "    }\n",
       "\n",
       "    .dataframe thead th {\n",
       "        text-align: right;\n",
       "    }\n",
       "</style>\n",
       "<table border=\"1\" class=\"dataframe\">\n",
       "  <thead>\n",
       "    <tr style=\"text-align: right;\">\n",
       "      <th></th>\n",
       "      <th>OPEN</th>\n",
       "      <th>HIGH</th>\n",
       "      <th>LOW</th>\n",
       "      <th>CLOSE</th>\n",
       "      <th>ADJ CLOSE</th>\n",
       "      <th>VOLUME</th>\n",
       "      <th>DAY</th>\n",
       "      <th>month</th>\n",
       "      <th>YEAR</th>\n",
       "    </tr>\n",
       "  </thead>\n",
       "  <tbody>\n",
       "    <tr>\n",
       "      <th>0</th>\n",
       "      <td>0.088542</td>\n",
       "      <td>0.101563</td>\n",
       "      <td>0.088542</td>\n",
       "      <td>0.097222</td>\n",
       "      <td>0.061751</td>\n",
       "      <td>1031788800</td>\n",
       "      <td>13</td>\n",
       "      <td>3</td>\n",
       "      <td>1986</td>\n",
       "    </tr>\n",
       "    <tr>\n",
       "      <th>1</th>\n",
       "      <td>0.097222</td>\n",
       "      <td>0.102431</td>\n",
       "      <td>0.097222</td>\n",
       "      <td>0.100694</td>\n",
       "      <td>0.063956</td>\n",
       "      <td>308160000</td>\n",
       "      <td>14</td>\n",
       "      <td>3</td>\n",
       "      <td>1986</td>\n",
       "    </tr>\n",
       "    <tr>\n",
       "      <th>2</th>\n",
       "      <td>0.100694</td>\n",
       "      <td>0.103299</td>\n",
       "      <td>0.100694</td>\n",
       "      <td>0.102431</td>\n",
       "      <td>0.065059</td>\n",
       "      <td>133171200</td>\n",
       "      <td>17</td>\n",
       "      <td>3</td>\n",
       "      <td>1986</td>\n",
       "    </tr>\n",
       "    <tr>\n",
       "      <th>3</th>\n",
       "      <td>0.102431</td>\n",
       "      <td>0.103299</td>\n",
       "      <td>0.098958</td>\n",
       "      <td>0.099826</td>\n",
       "      <td>0.063405</td>\n",
       "      <td>67766400</td>\n",
       "      <td>18</td>\n",
       "      <td>3</td>\n",
       "      <td>1986</td>\n",
       "    </tr>\n",
       "    <tr>\n",
       "      <th>4</th>\n",
       "      <td>0.099826</td>\n",
       "      <td>0.100694</td>\n",
       "      <td>0.097222</td>\n",
       "      <td>0.098090</td>\n",
       "      <td>0.062302</td>\n",
       "      <td>47894400</td>\n",
       "      <td>19</td>\n",
       "      <td>3</td>\n",
       "      <td>1986</td>\n",
       "    </tr>\n",
       "  </tbody>\n",
       "</table>\n",
       "</div>"
      ],
      "text/plain": [
       "       OPEN      HIGH       LOW     CLOSE  ADJ CLOSE      VOLUME  DAY  month  \\\n",
       "0  0.088542  0.101563  0.088542  0.097222   0.061751  1031788800   13      3   \n",
       "1  0.097222  0.102431  0.097222  0.100694   0.063956   308160000   14      3   \n",
       "2  0.100694  0.103299  0.100694  0.102431   0.065059   133171200   17      3   \n",
       "3  0.102431  0.103299  0.098958  0.099826   0.063405    67766400   18      3   \n",
       "4  0.099826  0.100694  0.097222  0.098090   0.062302    47894400   19      3   \n",
       "\n",
       "   YEAR  \n",
       "0  1986  \n",
       "1  1986  \n",
       "2  1986  \n",
       "3  1986  \n",
       "4  1986  "
      ]
     },
     "execution_count": 72,
     "metadata": {},
     "output_type": "execute_result"
    }
   ],
   "source": [
    "df2.head()"
   ]
  },
  {
   "cell_type": "markdown",
   "metadata": {
    "id": "yLe39vt4p9MT"
   },
   "source": [
    "# DATAFRAME MODEL"
   ]
  },
  {
   "cell_type": "code",
   "execution_count": 73,
   "metadata": {
    "colab": {
     "base_uri": "https://localhost:8080/"
    },
    "executionInfo": {
     "elapsed": 327,
     "status": "ok",
     "timestamp": 1623952158659,
     "user": {
      "displayName": "abhishek sharma",
      "photoUrl": "https://lh3.googleusercontent.com/a-/AOh14GjnrxUa1ihLAGy0WbVku6ClyyAnQ2GApleXBVJ4=s64",
      "userId": "11200093688168956717"
     },
     "user_tz": 420
    },
    "id": "N050zsipp9MU",
    "outputId": "2b6fef4c-9032-4acc-e92d-eff3263114f7"
   },
   "outputs": [],
   "source": [
    "X = data.loc[:,data.columns!=\"CLOSE\"]"
   ]
  },
  {
   "cell_type": "code",
   "execution_count": 74,
   "metadata": {
    "colab": {
     "base_uri": "https://localhost:8080/"
    },
    "executionInfo": {
     "elapsed": 315,
     "status": "ok",
     "timestamp": 1623952158664,
     "user": {
      "displayName": "abhishek sharma",
      "photoUrl": "https://lh3.googleusercontent.com/a-/AOh14GjnrxUa1ihLAGy0WbVku6ClyyAnQ2GApleXBVJ4=s64",
      "userId": "11200093688168956717"
     },
     "user_tz": 420
    },
    "id": "g3-oJZvvp9MV",
    "outputId": "cbee3784-94fb-4adf-ebe5-e0c6f7f09a36"
   },
   "outputs": [
    {
     "data": {
      "text/plain": [
       "Index(['OPEN', 'HIGH', 'LOW', 'CLOSE', 'DAY', 'month', 'YEAR', 'Time_hour',\n",
       "       'time_minute'],\n",
       "      dtype='object')"
      ]
     },
     "execution_count": 74,
     "metadata": {},
     "output_type": "execute_result"
    }
   ],
   "source": [
    "data.columns"
   ]
  },
  {
   "cell_type": "code",
   "execution_count": 75,
   "metadata": {
    "colab": {
     "base_uri": "https://localhost:8080/"
    },
    "executionInfo": {
     "elapsed": 304,
     "status": "ok",
     "timestamp": 1623952158666,
     "user": {
      "displayName": "abhishek sharma",
      "photoUrl": "https://lh3.googleusercontent.com/a-/AOh14GjnrxUa1ihLAGy0WbVku6ClyyAnQ2GApleXBVJ4=s64",
      "userId": "11200093688168956717"
     },
     "user_tz": 420
    },
    "id": "JgUAdq-6p9MW",
    "outputId": "cd21a9ac-9102-4923-9206-567806349c24"
   },
   "outputs": [],
   "source": [
    "#X.value_counts()"
   ]
  },
  {
   "cell_type": "code",
   "execution_count": 76,
   "metadata": {
    "colab": {
     "base_uri": "https://localhost:8080/",
     "height": 204
    },
    "executionInfo": {
     "elapsed": 291,
     "status": "ok",
     "timestamp": 1623952158668,
     "user": {
      "displayName": "abhishek sharma",
      "photoUrl": "https://lh3.googleusercontent.com/a-/AOh14GjnrxUa1ihLAGy0WbVku6ClyyAnQ2GApleXBVJ4=s64",
      "userId": "11200093688168956717"
     },
     "user_tz": 420
    },
    "id": "CmEkH-kzp9MW",
    "outputId": "1d474d94-ec51-4eba-fe9b-82e5a442c0b3"
   },
   "outputs": [
    {
     "data": {
      "text/html": [
       "<div>\n",
       "<style scoped>\n",
       "    .dataframe tbody tr th:only-of-type {\n",
       "        vertical-align: middle;\n",
       "    }\n",
       "\n",
       "    .dataframe tbody tr th {\n",
       "        vertical-align: top;\n",
       "    }\n",
       "\n",
       "    .dataframe thead th {\n",
       "        text-align: right;\n",
       "    }\n",
       "</style>\n",
       "<table border=\"1\" class=\"dataframe\">\n",
       "  <thead>\n",
       "    <tr style=\"text-align: right;\">\n",
       "      <th></th>\n",
       "      <th>OPEN</th>\n",
       "      <th>HIGH</th>\n",
       "      <th>LOW</th>\n",
       "      <th>DAY</th>\n",
       "      <th>month</th>\n",
       "      <th>YEAR</th>\n",
       "      <th>Time_hour</th>\n",
       "      <th>time_minute</th>\n",
       "    </tr>\n",
       "  </thead>\n",
       "  <tbody>\n",
       "    <tr>\n",
       "      <th>0</th>\n",
       "      <td>13997.90</td>\n",
       "      <td>14020.85</td>\n",
       "      <td>13991.35</td>\n",
       "      <td>1</td>\n",
       "      <td>1</td>\n",
       "      <td>2021</td>\n",
       "      <td>9</td>\n",
       "      <td>16</td>\n",
       "    </tr>\n",
       "    <tr>\n",
       "      <th>1</th>\n",
       "      <td>14014.85</td>\n",
       "      <td>14018.55</td>\n",
       "      <td>14008.15</td>\n",
       "      <td>1</td>\n",
       "      <td>1</td>\n",
       "      <td>2021</td>\n",
       "      <td>9</td>\n",
       "      <td>17</td>\n",
       "    </tr>\n",
       "    <tr>\n",
       "      <th>2</th>\n",
       "      <td>14008.05</td>\n",
       "      <td>14013.10</td>\n",
       "      <td>14005.05</td>\n",
       "      <td>1</td>\n",
       "      <td>1</td>\n",
       "      <td>2021</td>\n",
       "      <td>9</td>\n",
       "      <td>18</td>\n",
       "    </tr>\n",
       "    <tr>\n",
       "      <th>3</th>\n",
       "      <td>14013.65</td>\n",
       "      <td>14019.10</td>\n",
       "      <td>14013.65</td>\n",
       "      <td>1</td>\n",
       "      <td>1</td>\n",
       "      <td>2021</td>\n",
       "      <td>9</td>\n",
       "      <td>19</td>\n",
       "    </tr>\n",
       "    <tr>\n",
       "      <th>4</th>\n",
       "      <td>14015.45</td>\n",
       "      <td>14017.80</td>\n",
       "      <td>14011.95</td>\n",
       "      <td>1</td>\n",
       "      <td>1</td>\n",
       "      <td>2021</td>\n",
       "      <td>9</td>\n",
       "      <td>20</td>\n",
       "    </tr>\n",
       "  </tbody>\n",
       "</table>\n",
       "</div>"
      ],
      "text/plain": [
       "       OPEN      HIGH       LOW  DAY  month  YEAR  Time_hour  time_minute\n",
       "0  13997.90  14020.85  13991.35    1      1  2021          9           16\n",
       "1  14014.85  14018.55  14008.15    1      1  2021          9           17\n",
       "2  14008.05  14013.10  14005.05    1      1  2021          9           18\n",
       "3  14013.65  14019.10  14013.65    1      1  2021          9           19\n",
       "4  14015.45  14017.80  14011.95    1      1  2021          9           20"
      ]
     },
     "execution_count": 76,
     "metadata": {},
     "output_type": "execute_result"
    }
   ],
   "source": [
    "X.head()"
   ]
  },
  {
   "cell_type": "code",
   "execution_count": 77,
   "metadata": {
    "executionInfo": {
     "elapsed": 290,
     "status": "ok",
     "timestamp": 1623952158671,
     "user": {
      "displayName": "abhishek sharma",
      "photoUrl": "https://lh3.googleusercontent.com/a-/AOh14GjnrxUa1ihLAGy0WbVku6ClyyAnQ2GApleXBVJ4=s64",
      "userId": "11200093688168956717"
     },
     "user_tz": 420
    },
    "id": "iVvDaCcrp9MX"
   },
   "outputs": [],
   "source": [
    "y=data['CLOSE']"
   ]
  },
  {
   "cell_type": "code",
   "execution_count": 78,
   "metadata": {
    "colab": {
     "base_uri": "https://localhost:8080/"
    },
    "executionInfo": {
     "elapsed": 291,
     "status": "ok",
     "timestamp": 1623952158676,
     "user": {
      "displayName": "abhishek sharma",
      "photoUrl": "https://lh3.googleusercontent.com/a-/AOh14GjnrxUa1ihLAGy0WbVku6ClyyAnQ2GApleXBVJ4=s64",
      "userId": "11200093688168956717"
     },
     "user_tz": 420
    },
    "id": "td3C3mK-p9MY",
    "outputId": "ecc6719e-75a2-4daa-abf4-1bfe30b045eb"
   },
   "outputs": [
    {
     "data": {
      "text/plain": [
       "0    14013.15\n",
       "1    14009.05\n",
       "2    14012.70\n",
       "3    14016.20\n",
       "4    14015.45\n",
       "Name: CLOSE, dtype: float64"
      ]
     },
     "execution_count": 78,
     "metadata": {},
     "output_type": "execute_result"
    }
   ],
   "source": [
    "y.head()"
   ]
  },
  {
   "cell_type": "markdown",
   "metadata": {
    "id": "4H7kfhcWp9MZ"
   },
   "source": [
    "# TEST TRAIN SPLIT DATAFRAME"
   ]
  },
  {
   "cell_type": "code",
   "execution_count": 79,
   "metadata": {
    "executionInfo": {
     "elapsed": 281,
     "status": "ok",
     "timestamp": 1623952158681,
     "user": {
      "displayName": "abhishek sharma",
      "photoUrl": "https://lh3.googleusercontent.com/a-/AOh14GjnrxUa1ihLAGy0WbVku6ClyyAnQ2GApleXBVJ4=s64",
      "userId": "11200093688168956717"
     },
     "user_tz": 420
    },
    "id": "3llpAkUtp9MZ"
   },
   "outputs": [],
   "source": [
    "from sklearn.model_selection import train_test_split"
   ]
  },
  {
   "cell_type": "code",
   "execution_count": 80,
   "metadata": {
    "executionInfo": {
     "elapsed": 282,
     "status": "ok",
     "timestamp": 1623952158684,
     "user": {
      "displayName": "abhishek sharma",
      "photoUrl": "https://lh3.googleusercontent.com/a-/AOh14GjnrxUa1ihLAGy0WbVku6ClyyAnQ2GApleXBVJ4=s64",
      "userId": "11200093688168956717"
     },
     "user_tz": 420
    },
    "id": "sDlXTYfCp9Ma"
   },
   "outputs": [],
   "source": [
    "X_train,X_test,y_train,y_test=train_test_split(X,y,test_size=0.2,random_state=0)"
   ]
  },
  {
   "cell_type": "code",
   "execution_count": 81,
   "metadata": {
    "colab": {
     "base_uri": "https://localhost:8080/"
    },
    "executionInfo": {
     "elapsed": 283,
     "status": "ok",
     "timestamp": 1623952158686,
     "user": {
      "displayName": "abhishek sharma",
      "photoUrl": "https://lh3.googleusercontent.com/a-/AOh14GjnrxUa1ihLAGy0WbVku6ClyyAnQ2GApleXBVJ4=s64",
      "userId": "11200093688168956717"
     },
     "user_tz": 420
    },
    "id": "aD9jb9mop9Ma",
    "outputId": "d36752ba-ebac-4291-ca44-22569ee95be4"
   },
   "outputs": [
    {
     "name": "stdout",
     "output_type": "stream",
     "text": [
      "(18244, 8) (4561, 8) (18244,) (4561,)\n"
     ]
    }
   ],
   "source": [
    "print(X_train.shape,X_test.shape,y_train.shape,y_test.shape)"
   ]
  },
  {
   "cell_type": "markdown",
   "metadata": {
    "id": "knmxrrxlp9Mb"
   },
   "source": [
    "# Standardizing Data\n",
    "\n",
    "https://scikit-learn.org/stable/modules/generated/sklearn.preprocessing.StandardScaler.html"
   ]
  },
  {
   "cell_type": "code",
   "execution_count": 82,
   "metadata": {
    "executionInfo": {
     "elapsed": 268,
     "status": "ok",
     "timestamp": 1623952158688,
     "user": {
      "displayName": "abhishek sharma",
      "photoUrl": "https://lh3.googleusercontent.com/a-/AOh14GjnrxUa1ihLAGy0WbVku6ClyyAnQ2GApleXBVJ4=s64",
      "userId": "11200093688168956717"
     },
     "user_tz": 420
    },
    "id": "soEQSc13p9Mb"
   },
   "outputs": [],
   "source": [
    "from sklearn.preprocessing import StandardScaler"
   ]
  },
  {
   "cell_type": "code",
   "execution_count": 83,
   "metadata": {
    "colab": {
     "base_uri": "https://localhost:8080/",
     "height": 204
    },
    "executionInfo": {
     "elapsed": 269,
     "status": "ok",
     "timestamp": 1623952158690,
     "user": {
      "displayName": "abhishek sharma",
      "photoUrl": "https://lh3.googleusercontent.com/a-/AOh14GjnrxUa1ihLAGy0WbVku6ClyyAnQ2GApleXBVJ4=s64",
      "userId": "11200093688168956717"
     },
     "user_tz": 420
    },
    "id": "3uD22X-Jp9Mc",
    "outputId": "b67e9288-ba2b-4be3-bed2-97beacceee03"
   },
   "outputs": [],
   "source": [
    "sc = StandardScaler().fit(X_train)"
   ]
  },
  {
   "cell_type": "code",
   "execution_count": 84,
   "metadata": {
    "executionInfo": {
     "elapsed": 274,
     "status": "ok",
     "timestamp": 1623952158698,
     "user": {
      "displayName": "abhishek sharma",
      "photoUrl": "https://lh3.googleusercontent.com/a-/AOh14GjnrxUa1ihLAGy0WbVku6ClyyAnQ2GApleXBVJ4=s64",
      "userId": "11200093688168956717"
     },
     "user_tz": 420
    },
    "id": "s1p1XAuep9Md"
   },
   "outputs": [],
   "source": [
    "X_train_std=sc.transform(X_train)"
   ]
  },
  {
   "cell_type": "code",
   "execution_count": 85,
   "metadata": {
    "colab": {
     "base_uri": "https://localhost:8080/"
    },
    "executionInfo": {
     "elapsed": 273,
     "status": "ok",
     "timestamp": 1623952158700,
     "user": {
      "displayName": "abhishek sharma",
      "photoUrl": "https://lh3.googleusercontent.com/a-/AOh14GjnrxUa1ihLAGy0WbVku6ClyyAnQ2GApleXBVJ4=s64",
      "userId": "11200093688168956717"
     },
     "user_tz": 420
    },
    "id": "5nRqV5FPp9Me",
    "outputId": "29a50bf1-b1e7-4712-c094-cebe18fc427b"
   },
   "outputs": [],
   "source": [
    "X_test_std=sc.transform(X_test)"
   ]
  },
  {
   "cell_type": "code",
   "execution_count": 86,
   "metadata": {
    "id": "0mHrFPGtp9Mf"
   },
   "outputs": [
    {
     "data": {
      "text/plain": [
       "array([[ 1.05314965,  1.04448231,  1.04056985, ...,  0.        ,\n",
       "         0.57862783,  1.57763269],\n",
       "       [ 1.11093268,  1.12650169,  1.11958297, ...,  0.        ,\n",
       "        -1.03034734, -1.47114428],\n",
       "       [-2.22510865, -2.15991211, -2.28835392, ...,  0.        ,\n",
       "        -1.5666724 , -0.76758037],\n",
       "       ...,\n",
       "       [ 1.20151495,  1.22261814,  1.21178628, ...,  0.        ,\n",
       "        -1.5666724 ,  0.52228681],\n",
       "       [ 1.07569912,  1.06575609,  1.06528546, ...,  0.        ,\n",
       "         0.04230277,  1.57763269],\n",
       "       [-0.57515319, -0.57860421, -0.56504839, ...,  0.        ,\n",
       "        -1.03034734,  0.87406877]])"
      ]
     },
     "execution_count": 86,
     "metadata": {},
     "output_type": "execute_result"
    }
   ],
   "source": [
    "X_train_std"
   ]
  },
  {
   "cell_type": "code",
   "execution_count": 87,
   "metadata": {
    "executionInfo": {
     "elapsed": 263,
     "status": "ok",
     "timestamp": 1623952158704,
     "user": {
      "displayName": "abhishek sharma",
      "photoUrl": "https://lh3.googleusercontent.com/a-/AOh14GjnrxUa1ihLAGy0WbVku6ClyyAnQ2GApleXBVJ4=s64",
      "userId": "11200093688168956717"
     },
     "user_tz": 420
    },
    "id": "sAeVFEY1p9Mf"
   },
   "outputs": [
    {
     "data": {
      "text/plain": [
       "array([[ 0.42509547,  0.41780303,  0.41128224, ...,  0.        ,\n",
       "        -1.03034734, -0.82621069],\n",
       "       [ 1.34834279,  1.35589962,  1.35854322, ...,  0.        ,\n",
       "         0.57862783, -0.35716808],\n",
       "       [-0.69059114, -0.68240998, -0.68209537, ...,  0.        ,\n",
       "        -1.03034734, -1.2952533 ],\n",
       "       ...,\n",
       "       [ 1.13463525,  1.12944926,  1.13981647, ...,  0.        ,\n",
       "        -0.49402229, -1.41251396],\n",
       "       [-1.69532407, -1.70047546, -1.6867273 , ...,  0.        ,\n",
       "         1.11495288,  0.9326991 ],\n",
       "       [-1.11531566, -1.11621557, -1.10815152, ...,  0.        ,\n",
       "         0.57862783,  0.9326991 ]])"
      ]
     },
     "execution_count": 87,
     "metadata": {},
     "output_type": "execute_result"
    }
   ],
   "source": [
    "X_test_std"
   ]
  },
  {
   "cell_type": "code",
   "execution_count": 88,
   "metadata": {
    "id": "mPbKmYQop9Mg"
   },
   "outputs": [],
   "source": [
    "from sklearn.svm import SVR\n",
    "svr=SVR(kernel='poly',degree=3,C=100,coef0=1)"
   ]
  },
  {
   "cell_type": "code",
   "execution_count": 89,
   "metadata": {
    "executionInfo": {
     "elapsed": 254,
     "status": "ok",
     "timestamp": 1623952158711,
     "user": {
      "displayName": "abhishek sharma",
      "photoUrl": "https://lh3.googleusercontent.com/a-/AOh14GjnrxUa1ihLAGy0WbVku6ClyyAnQ2GApleXBVJ4=s64",
      "userId": "11200093688168956717"
     },
     "user_tz": 420
    },
    "id": "SRAt_ddxp9Mh"
   },
   "outputs": [
    {
     "data": {
      "text/plain": [
       "SVR(C=100, coef0=1, kernel='poly')"
      ]
     },
     "execution_count": 89,
     "metadata": {},
     "output_type": "execute_result"
    }
   ],
   "source": [
    "svr.fit(X_train_std,y_train)"
   ]
  },
  {
   "cell_type": "code",
   "execution_count": 90,
   "metadata": {
    "executionInfo": {
     "elapsed": 256,
     "status": "ok",
     "timestamp": 1623952158714,
     "user": {
      "displayName": "abhishek sharma",
      "photoUrl": "https://lh3.googleusercontent.com/a-/AOh14GjnrxUa1ihLAGy0WbVku6ClyyAnQ2GApleXBVJ4=s64",
      "userId": "11200093688168956717"
     },
     "user_tz": 420
    },
    "id": "SqE9SIOZp9Mi"
   },
   "outputs": [],
   "source": [
    "y_test_pred=svr.predict(X_test_std)"
   ]
  },
  {
   "cell_type": "code",
   "execution_count": 91,
   "metadata": {
    "executionInfo": {
     "elapsed": 258,
     "status": "ok",
     "timestamp": 1623952158718,
     "user": {
      "displayName": "abhishek sharma",
      "photoUrl": "https://lh3.googleusercontent.com/a-/AOh14GjnrxUa1ihLAGy0WbVku6ClyyAnQ2GApleXBVJ4=s64",
      "userId": "11200093688168956717"
     },
     "user_tz": 420
    },
    "id": "gu9ldetzp9Mi"
   },
   "outputs": [],
   "source": [
    "y_train_pred=svr.predict(X_train_std)"
   ]
  },
  {
   "cell_type": "code",
   "execution_count": 92,
   "metadata": {
    "executionInfo": {
     "elapsed": 259,
     "status": "ok",
     "timestamp": 1623952158720,
     "user": {
      "displayName": "abhishek sharma",
      "photoUrl": "https://lh3.googleusercontent.com/a-/AOh14GjnrxUa1ihLAGy0WbVku6ClyyAnQ2GApleXBVJ4=s64",
      "userId": "11200093688168956717"
     },
     "user_tz": 420
    },
    "id": "jzNFThyYp9Mi"
   },
   "outputs": [
    {
     "data": {
      "text/plain": [
       "array([14864.29115551, 15236.70494189, 14440.2064023 , ...,\n",
       "       15147.8011229 , 14044.22103228, 14271.64610771])"
      ]
     },
     "execution_count": 92,
     "metadata": {},
     "output_type": "execute_result"
    }
   ],
   "source": [
    "y_test_pred"
   ]
  },
  {
   "cell_type": "code",
   "execution_count": 93,
   "metadata": {
    "executionInfo": {
     "elapsed": 263,
     "status": "ok",
     "timestamp": 1623952158726,
     "user": {
      "displayName": "abhishek sharma",
      "photoUrl": "https://lh3.googleusercontent.com/a-/AOh14GjnrxUa1ihLAGy0WbVku6ClyyAnQ2GApleXBVJ4=s64",
      "userId": "11200093688168956717"
     },
     "user_tz": 420
    },
    "id": "zUkyZGDTp9Mj"
   },
   "outputs": [
    {
     "data": {
      "text/plain": [
       "array([15108.47972806, 15146.49787682, 13838.45094957, ...,\n",
       "       15184.00059249, 15117.92916152, 14482.25595332])"
      ]
     },
     "execution_count": 93,
     "metadata": {},
     "output_type": "execute_result"
    }
   ],
   "source": [
    "y_train_pred"
   ]
  },
  {
   "cell_type": "code",
   "execution_count": 94,
   "metadata": {
    "executionInfo": {
     "elapsed": 251,
     "status": "ok",
     "timestamp": 1623952158731,
     "user": {
      "displayName": "abhishek sharma",
      "photoUrl": "https://lh3.googleusercontent.com/a-/AOh14GjnrxUa1ihLAGy0WbVku6ClyyAnQ2GApleXBVJ4=s64",
      "userId": "11200093688168956717"
     },
     "user_tz": 420
    },
    "id": "t99NhD3jp9Mk"
   },
   "outputs": [],
   "source": [
    "from sklearn.metrics import mean_squared_error,r2_score"
   ]
  },
  {
   "cell_type": "code",
   "execution_count": 95,
   "metadata": {
    "executionInfo": {
     "elapsed": 252,
     "status": "ok",
     "timestamp": 1623952158734,
     "user": {
      "displayName": "abhishek sharma",
      "photoUrl": "https://lh3.googleusercontent.com/a-/AOh14GjnrxUa1ihLAGy0WbVku6ClyyAnQ2GApleXBVJ4=s64",
      "userId": "11200093688168956717"
     },
     "user_tz": 420
    },
    "id": "-ZKED_Yip9Ml"
   },
   "outputs": [
    {
     "data": {
      "text/plain": [
       "7.338761384878349"
      ]
     },
     "execution_count": 95,
     "metadata": {},
     "output_type": "execute_result"
    }
   ],
   "source": [
    "mean_squared_error(y_test, y_test_pred)"
   ]
  },
  {
   "cell_type": "code",
   "execution_count": 96,
   "metadata": {
    "executionInfo": {
     "elapsed": 253,
     "status": "ok",
     "timestamp": 1623952158736,
     "user": {
      "displayName": "abhishek sharma",
      "photoUrl": "https://lh3.googleusercontent.com/a-/AOh14GjnrxUa1ihLAGy0WbVku6ClyyAnQ2GApleXBVJ4=s64",
      "userId": "11200093688168956717"
     },
     "user_tz": 420
    },
    "id": "xx7TZIZ7p9Mm"
   },
   "outputs": [
    {
     "data": {
      "text/plain": [
       "0.9999531217589097"
      ]
     },
     "execution_count": 96,
     "metadata": {},
     "output_type": "execute_result"
    }
   ],
   "source": [
    "r2_score(y_test, y_test_pred)"
   ]
  },
  {
   "cell_type": "markdown",
   "metadata": {},
   "source": [
    "# MSFT MODEL WITHOUT OUTLIER"
   ]
  },
  {
   "cell_type": "code",
   "execution_count": 97,
   "metadata": {
    "colab": {
     "base_uri": "https://localhost:8080/"
    },
    "executionInfo": {
     "elapsed": 254,
     "status": "ok",
     "timestamp": 1623952158740,
     "user": {
      "displayName": "abhishek sharma",
      "photoUrl": "https://lh3.googleusercontent.com/a-/AOh14GjnrxUa1ihLAGy0WbVku6ClyyAnQ2GApleXBVJ4=s64",
      "userId": "11200093688168956717"
     },
     "user_tz": 420
    },
    "id": "h2piAKk6p9Mm",
    "outputId": "b00d9727-72af-4847-ba74-418e38216da5"
   },
   "outputs": [
    {
     "data": {
      "text/html": [
       "<div>\n",
       "<style scoped>\n",
       "    .dataframe tbody tr th:only-of-type {\n",
       "        vertical-align: middle;\n",
       "    }\n",
       "\n",
       "    .dataframe tbody tr th {\n",
       "        vertical-align: top;\n",
       "    }\n",
       "\n",
       "    .dataframe thead th {\n",
       "        text-align: right;\n",
       "    }\n",
       "</style>\n",
       "<table border=\"1\" class=\"dataframe\">\n",
       "  <thead>\n",
       "    <tr style=\"text-align: right;\">\n",
       "      <th></th>\n",
       "      <th>OPEN</th>\n",
       "      <th>HIGH</th>\n",
       "      <th>LOW</th>\n",
       "      <th>CLOSE</th>\n",
       "      <th>ADJ CLOSE</th>\n",
       "      <th>VOLUME</th>\n",
       "      <th>DAY</th>\n",
       "      <th>month</th>\n",
       "      <th>YEAR</th>\n",
       "    </tr>\n",
       "  </thead>\n",
       "  <tbody>\n",
       "    <tr>\n",
       "      <th>0</th>\n",
       "      <td>0.088542</td>\n",
       "      <td>0.101563</td>\n",
       "      <td>0.088542</td>\n",
       "      <td>0.097222</td>\n",
       "      <td>0.061751</td>\n",
       "      <td>1031788800</td>\n",
       "      <td>13</td>\n",
       "      <td>3</td>\n",
       "      <td>1986</td>\n",
       "    </tr>\n",
       "    <tr>\n",
       "      <th>1</th>\n",
       "      <td>0.097222</td>\n",
       "      <td>0.102431</td>\n",
       "      <td>0.097222</td>\n",
       "      <td>0.100694</td>\n",
       "      <td>0.063956</td>\n",
       "      <td>308160000</td>\n",
       "      <td>14</td>\n",
       "      <td>3</td>\n",
       "      <td>1986</td>\n",
       "    </tr>\n",
       "    <tr>\n",
       "      <th>2</th>\n",
       "      <td>0.100694</td>\n",
       "      <td>0.103299</td>\n",
       "      <td>0.100694</td>\n",
       "      <td>0.102431</td>\n",
       "      <td>0.065059</td>\n",
       "      <td>133171200</td>\n",
       "      <td>17</td>\n",
       "      <td>3</td>\n",
       "      <td>1986</td>\n",
       "    </tr>\n",
       "    <tr>\n",
       "      <th>3</th>\n",
       "      <td>0.102431</td>\n",
       "      <td>0.103299</td>\n",
       "      <td>0.098958</td>\n",
       "      <td>0.099826</td>\n",
       "      <td>0.063405</td>\n",
       "      <td>67766400</td>\n",
       "      <td>18</td>\n",
       "      <td>3</td>\n",
       "      <td>1986</td>\n",
       "    </tr>\n",
       "    <tr>\n",
       "      <th>4</th>\n",
       "      <td>0.099826</td>\n",
       "      <td>0.100694</td>\n",
       "      <td>0.097222</td>\n",
       "      <td>0.098090</td>\n",
       "      <td>0.062302</td>\n",
       "      <td>47894400</td>\n",
       "      <td>19</td>\n",
       "      <td>3</td>\n",
       "      <td>1986</td>\n",
       "    </tr>\n",
       "  </tbody>\n",
       "</table>\n",
       "</div>"
      ],
      "text/plain": [
       "       OPEN      HIGH       LOW     CLOSE  ADJ CLOSE      VOLUME  DAY  month  \\\n",
       "0  0.088542  0.101563  0.088542  0.097222   0.061751  1031788800   13      3   \n",
       "1  0.097222  0.102431  0.097222  0.100694   0.063956   308160000   14      3   \n",
       "2  0.100694  0.103299  0.100694  0.102431   0.065059   133171200   17      3   \n",
       "3  0.102431  0.103299  0.098958  0.099826   0.063405    67766400   18      3   \n",
       "4  0.099826  0.100694  0.097222  0.098090   0.062302    47894400   19      3   \n",
       "\n",
       "   YEAR  \n",
       "0  1986  \n",
       "1  1986  \n",
       "2  1986  \n",
       "3  1986  \n",
       "4  1986  "
      ]
     },
     "execution_count": 97,
     "metadata": {},
     "output_type": "execute_result"
    }
   ],
   "source": [
    "df2.head()"
   ]
  },
  {
   "cell_type": "code",
   "execution_count": 98,
   "metadata": {
    "colab": {
     "base_uri": "https://localhost:8080/",
     "height": 204
    },
    "executionInfo": {
     "elapsed": 242,
     "status": "ok",
     "timestamp": 1623952158742,
     "user": {
      "displayName": "abhishek sharma",
      "photoUrl": "https://lh3.googleusercontent.com/a-/AOh14GjnrxUa1ihLAGy0WbVku6ClyyAnQ2GApleXBVJ4=s64",
      "userId": "11200093688168956717"
     },
     "user_tz": 420
    },
    "id": "5QGw7wYcp9Mn",
    "outputId": "19057f8d-e53c-49f2-cda2-5f11b9ce13ea"
   },
   "outputs": [],
   "source": [
    "X1=df2.loc[:,df2.columns!='CLOSE']"
   ]
  },
  {
   "cell_type": "code",
   "execution_count": 99,
   "metadata": {},
   "outputs": [
    {
     "data": {
      "text/html": [
       "<div>\n",
       "<style scoped>\n",
       "    .dataframe tbody tr th:only-of-type {\n",
       "        vertical-align: middle;\n",
       "    }\n",
       "\n",
       "    .dataframe tbody tr th {\n",
       "        vertical-align: top;\n",
       "    }\n",
       "\n",
       "    .dataframe thead th {\n",
       "        text-align: right;\n",
       "    }\n",
       "</style>\n",
       "<table border=\"1\" class=\"dataframe\">\n",
       "  <thead>\n",
       "    <tr style=\"text-align: right;\">\n",
       "      <th></th>\n",
       "      <th>OPEN</th>\n",
       "      <th>HIGH</th>\n",
       "      <th>LOW</th>\n",
       "      <th>ADJ CLOSE</th>\n",
       "      <th>VOLUME</th>\n",
       "      <th>DAY</th>\n",
       "      <th>month</th>\n",
       "      <th>YEAR</th>\n",
       "    </tr>\n",
       "  </thead>\n",
       "  <tbody>\n",
       "    <tr>\n",
       "      <th>0</th>\n",
       "      <td>0.088542</td>\n",
       "      <td>0.101563</td>\n",
       "      <td>0.088542</td>\n",
       "      <td>0.061751</td>\n",
       "      <td>1031788800</td>\n",
       "      <td>13</td>\n",
       "      <td>3</td>\n",
       "      <td>1986</td>\n",
       "    </tr>\n",
       "    <tr>\n",
       "      <th>1</th>\n",
       "      <td>0.097222</td>\n",
       "      <td>0.102431</td>\n",
       "      <td>0.097222</td>\n",
       "      <td>0.063956</td>\n",
       "      <td>308160000</td>\n",
       "      <td>14</td>\n",
       "      <td>3</td>\n",
       "      <td>1986</td>\n",
       "    </tr>\n",
       "    <tr>\n",
       "      <th>2</th>\n",
       "      <td>0.100694</td>\n",
       "      <td>0.103299</td>\n",
       "      <td>0.100694</td>\n",
       "      <td>0.065059</td>\n",
       "      <td>133171200</td>\n",
       "      <td>17</td>\n",
       "      <td>3</td>\n",
       "      <td>1986</td>\n",
       "    </tr>\n",
       "    <tr>\n",
       "      <th>3</th>\n",
       "      <td>0.102431</td>\n",
       "      <td>0.103299</td>\n",
       "      <td>0.098958</td>\n",
       "      <td>0.063405</td>\n",
       "      <td>67766400</td>\n",
       "      <td>18</td>\n",
       "      <td>3</td>\n",
       "      <td>1986</td>\n",
       "    </tr>\n",
       "    <tr>\n",
       "      <th>4</th>\n",
       "      <td>0.099826</td>\n",
       "      <td>0.100694</td>\n",
       "      <td>0.097222</td>\n",
       "      <td>0.062302</td>\n",
       "      <td>47894400</td>\n",
       "      <td>19</td>\n",
       "      <td>3</td>\n",
       "      <td>1986</td>\n",
       "    </tr>\n",
       "  </tbody>\n",
       "</table>\n",
       "</div>"
      ],
      "text/plain": [
       "       OPEN      HIGH       LOW  ADJ CLOSE      VOLUME  DAY  month  YEAR\n",
       "0  0.088542  0.101563  0.088542   0.061751  1031788800   13      3  1986\n",
       "1  0.097222  0.102431  0.097222   0.063956   308160000   14      3  1986\n",
       "2  0.100694  0.103299  0.100694   0.065059   133171200   17      3  1986\n",
       "3  0.102431  0.103299  0.098958   0.063405    67766400   18      3  1986\n",
       "4  0.099826  0.100694  0.097222   0.062302    47894400   19      3  1986"
      ]
     },
     "execution_count": 99,
     "metadata": {},
     "output_type": "execute_result"
    }
   ],
   "source": [
    "X1.head()"
   ]
  },
  {
   "cell_type": "code",
   "execution_count": 100,
   "metadata": {
    "id": "WmVFLEjTp9Mn"
   },
   "outputs": [],
   "source": [
    "y1=df2['CLOSE']"
   ]
  },
  {
   "cell_type": "code",
   "execution_count": 101,
   "metadata": {
    "executionInfo": {
     "elapsed": 241,
     "status": "ok",
     "timestamp": 1623952158745,
     "user": {
      "displayName": "abhishek sharma",
      "photoUrl": "https://lh3.googleusercontent.com/a-/AOh14GjnrxUa1ihLAGy0WbVku6ClyyAnQ2GApleXBVJ4=s64",
      "userId": "11200093688168956717"
     },
     "user_tz": 420
    },
    "id": "CTGx4jGap9Mo"
   },
   "outputs": [
    {
     "data": {
      "text/plain": [
       "0    0.097222\n",
       "1    0.100694\n",
       "2    0.102431\n",
       "3    0.099826\n",
       "4    0.098090\n",
       "Name: CLOSE, dtype: float64"
      ]
     },
     "execution_count": 101,
     "metadata": {},
     "output_type": "execute_result"
    }
   ],
   "source": [
    "y1.head()"
   ]
  },
  {
   "cell_type": "code",
   "execution_count": 102,
   "metadata": {
    "colab": {
     "base_uri": "https://localhost:8080/"
    },
    "executionInfo": {
     "elapsed": 131,
     "status": "ok",
     "timestamp": 1623952183316,
     "user": {
      "displayName": "abhishek sharma",
      "photoUrl": "https://lh3.googleusercontent.com/a-/AOh14GjnrxUa1ihLAGy0WbVku6ClyyAnQ2GApleXBVJ4=s64",
      "userId": "11200093688168956717"
     },
     "user_tz": 420
    },
    "id": "Aa89hdeDp9Mu",
    "outputId": "29eebe6f-bb38-42ca-8a87-aa9bee56c8d4"
   },
   "outputs": [],
   "source": [
    "X1_train,X1_test,y1_train,y1_test=train_test_split(X1,y1,test_size=0.2,random_state=0)"
   ]
  },
  {
   "cell_type": "code",
   "execution_count": 103,
   "metadata": {
    "colab": {
     "base_uri": "https://localhost:8080/"
    },
    "executionInfo": {
     "elapsed": 118,
     "status": "ok",
     "timestamp": 1623952183318,
     "user": {
      "displayName": "abhishek sharma",
      "photoUrl": "https://lh3.googleusercontent.com/a-/AOh14GjnrxUa1ihLAGy0WbVku6ClyyAnQ2GApleXBVJ4=s64",
      "userId": "11200093688168956717"
     },
     "user_tz": 420
    },
    "id": "7sK0xu3Mp9Mv",
    "outputId": "873981ae-25a7-4de2-c062-24c49812d0ca"
   },
   "outputs": [
    {
     "name": "stdout",
     "output_type": "stream",
     "text": [
      "(7085, 8) (1772, 8) (7085,) (1772,)\n"
     ]
    }
   ],
   "source": [
    "print(X1_train.shape,X1_test.shape,y1_train.shape,y1_test.shape)"
   ]
  },
  {
   "cell_type": "code",
   "execution_count": 104,
   "metadata": {
    "colab": {
     "base_uri": "https://localhost:8080/"
    },
    "executionInfo": {
     "elapsed": 93,
     "status": "ok",
     "timestamp": 1623952183320,
     "user": {
      "displayName": "abhishek sharma",
      "photoUrl": "https://lh3.googleusercontent.com/a-/AOh14GjnrxUa1ihLAGy0WbVku6ClyyAnQ2GApleXBVJ4=s64",
      "userId": "11200093688168956717"
     },
     "user_tz": 420
    },
    "id": "7AKpNZXtp9Mx",
    "outputId": "3104b15c-9a95-4b6d-9fb5-7d42a7c05a70"
   },
   "outputs": [],
   "source": [
    "sc1=StandardScaler().fit(X1_train)"
   ]
  },
  {
   "cell_type": "code",
   "execution_count": 105,
   "metadata": {
    "colab": {
     "base_uri": "https://localhost:8080/"
    },
    "executionInfo": {
     "elapsed": 79,
     "status": "ok",
     "timestamp": 1623952183321,
     "user": {
      "displayName": "abhishek sharma",
      "photoUrl": "https://lh3.googleusercontent.com/a-/AOh14GjnrxUa1ihLAGy0WbVku6ClyyAnQ2GApleXBVJ4=s64",
      "userId": "11200093688168956717"
     },
     "user_tz": 420
    },
    "id": "LTm1_dT3p9Mx",
    "outputId": "09fcfbb2-dccf-4915-b980-4f7cd592521a"
   },
   "outputs": [],
   "source": [
    "X1_train_std=sc1.transform(X1_train)"
   ]
  },
  {
   "cell_type": "code",
   "execution_count": 106,
   "metadata": {
    "executionInfo": {
     "elapsed": 67,
     "status": "ok",
     "timestamp": 1623952183322,
     "user": {
      "displayName": "abhishek sharma",
      "photoUrl": "https://lh3.googleusercontent.com/a-/AOh14GjnrxUa1ihLAGy0WbVku6ClyyAnQ2GApleXBVJ4=s64",
      "userId": "11200093688168956717"
     },
     "user_tz": 420
    },
    "id": "la2vW9itp9My"
   },
   "outputs": [],
   "source": [
    "X1_test_std=sc1.transform(X1_test)"
   ]
  },
  {
   "cell_type": "code",
   "execution_count": 107,
   "metadata": {},
   "outputs": [
    {
     "data": {
      "text/plain": [
       "array([[-0.10197221, -0.10840858, -0.10376951, ...,  0.70880399,\n",
       "        -1.02544085, -0.12267646],\n",
       "       [ 0.24038047,  0.23429234,  0.17641548, ..., -1.3443867 ,\n",
       "        -0.73464481, -0.31974318],\n",
       "       [-0.22056844, -0.21923667, -0.21621761, ..., -0.08965905,\n",
       "         0.42853938,  0.76412375],\n",
       "       ...,\n",
       "       [-0.21697802, -0.22301238, -0.21712442, ..., -0.08965905,\n",
       "        -0.15305271,  0.17292361],\n",
       "       [ 0.10994705,  0.12532433,  0.11265334, ..., -0.6599898 ,\n",
       "        -1.3162369 , -0.41827654],\n",
       "       [-0.55133637, -0.55346999, -0.5525983 , ...,  1.73539934,\n",
       "         1.59172357, -0.71387661]])"
      ]
     },
     "execution_count": 107,
     "metadata": {},
     "output_type": "execute_result"
    }
   ],
   "source": [
    "X1_train_std"
   ]
  },
  {
   "cell_type": "code",
   "execution_count": 108,
   "metadata": {},
   "outputs": [],
   "source": [
    "svm1=SVR(kernel='poly',degree=3,C=100,coef0=1)"
   ]
  },
  {
   "cell_type": "code",
   "execution_count": 109,
   "metadata": {},
   "outputs": [
    {
     "data": {
      "text/plain": [
       "SVR(C=100, coef0=1, kernel='poly')"
      ]
     },
     "execution_count": 109,
     "metadata": {},
     "output_type": "execute_result"
    }
   ],
   "source": [
    "svm1.fit(X1_train_std,y1_train)"
   ]
  },
  {
   "cell_type": "code",
   "execution_count": 110,
   "metadata": {},
   "outputs": [],
   "source": [
    "y1_train_pred=svm1.predict(X1_train_std)"
   ]
  },
  {
   "cell_type": "code",
   "execution_count": 111,
   "metadata": {},
   "outputs": [],
   "source": [
    "Y1_test_pred=svm1.predict(X1_test_std)"
   ]
  },
  {
   "cell_type": "code",
   "execution_count": 112,
   "metadata": {},
   "outputs": [
    {
     "data": {
      "text/plain": [
       "0.02974055972788323"
      ]
     },
     "execution_count": 112,
     "metadata": {},
     "output_type": "execute_result"
    }
   ],
   "source": [
    "mean_squared_error(y1_test, Y1_test_pred)"
   ]
  },
  {
   "cell_type": "code",
   "execution_count": 113,
   "metadata": {},
   "outputs": [
    {
     "data": {
      "text/plain": [
       "0.9999831003842727"
      ]
     },
     "execution_count": 113,
     "metadata": {},
     "output_type": "execute_result"
    }
   ],
   "source": [
    "r2_score(y1_test, Y1_test_pred)"
   ]
  },
  {
   "cell_type": "markdown",
   "metadata": {},
   "source": [
    "# MSFT WITH OUTLIER"
   ]
  },
  {
   "cell_type": "code",
   "execution_count": 114,
   "metadata": {},
   "outputs": [
    {
     "data": {
      "text/html": [
       "<div>\n",
       "<style scoped>\n",
       "    .dataframe tbody tr th:only-of-type {\n",
       "        vertical-align: middle;\n",
       "    }\n",
       "\n",
       "    .dataframe tbody tr th {\n",
       "        vertical-align: top;\n",
       "    }\n",
       "\n",
       "    .dataframe thead th {\n",
       "        text-align: right;\n",
       "    }\n",
       "</style>\n",
       "<table border=\"1\" class=\"dataframe\">\n",
       "  <thead>\n",
       "    <tr style=\"text-align: right;\">\n",
       "      <th></th>\n",
       "      <th>Date</th>\n",
       "      <th>Open</th>\n",
       "      <th>High</th>\n",
       "      <th>Low</th>\n",
       "      <th>Close</th>\n",
       "      <th>Adj Close</th>\n",
       "      <th>Volume</th>\n",
       "    </tr>\n",
       "  </thead>\n",
       "  <tbody>\n",
       "    <tr>\n",
       "      <th>0</th>\n",
       "      <td>1986-03-13</td>\n",
       "      <td>0.088542</td>\n",
       "      <td>0.101563</td>\n",
       "      <td>0.088542</td>\n",
       "      <td>0.097222</td>\n",
       "      <td>0.061751</td>\n",
       "      <td>1031788800</td>\n",
       "    </tr>\n",
       "    <tr>\n",
       "      <th>1</th>\n",
       "      <td>1986-03-14</td>\n",
       "      <td>0.097222</td>\n",
       "      <td>0.102431</td>\n",
       "      <td>0.097222</td>\n",
       "      <td>0.100694</td>\n",
       "      <td>0.063956</td>\n",
       "      <td>308160000</td>\n",
       "    </tr>\n",
       "    <tr>\n",
       "      <th>2</th>\n",
       "      <td>1986-03-17</td>\n",
       "      <td>0.100694</td>\n",
       "      <td>0.103299</td>\n",
       "      <td>0.100694</td>\n",
       "      <td>0.102431</td>\n",
       "      <td>0.065059</td>\n",
       "      <td>133171200</td>\n",
       "    </tr>\n",
       "    <tr>\n",
       "      <th>3</th>\n",
       "      <td>1986-03-18</td>\n",
       "      <td>0.102431</td>\n",
       "      <td>0.103299</td>\n",
       "      <td>0.098958</td>\n",
       "      <td>0.099826</td>\n",
       "      <td>0.063405</td>\n",
       "      <td>67766400</td>\n",
       "    </tr>\n",
       "    <tr>\n",
       "      <th>4</th>\n",
       "      <td>1986-03-19</td>\n",
       "      <td>0.099826</td>\n",
       "      <td>0.100694</td>\n",
       "      <td>0.097222</td>\n",
       "      <td>0.098090</td>\n",
       "      <td>0.062302</td>\n",
       "      <td>47894400</td>\n",
       "    </tr>\n",
       "  </tbody>\n",
       "</table>\n",
       "</div>"
      ],
      "text/plain": [
       "         Date      Open      High       Low     Close  Adj Close      Volume\n",
       "0  1986-03-13  0.088542  0.101563  0.088542  0.097222   0.061751  1031788800\n",
       "1  1986-03-14  0.097222  0.102431  0.097222  0.100694   0.063956   308160000\n",
       "2  1986-03-17  0.100694  0.103299  0.100694  0.102431   0.065059   133171200\n",
       "3  1986-03-18  0.102431  0.103299  0.098958  0.099826   0.063405    67766400\n",
       "4  1986-03-19  0.099826  0.100694  0.097222  0.098090   0.062302    47894400"
      ]
     },
     "execution_count": 114,
     "metadata": {},
     "output_type": "execute_result"
    }
   ],
   "source": [
    "msft.head()"
   ]
  },
  {
   "cell_type": "code",
   "execution_count": 115,
   "metadata": {},
   "outputs": [],
   "source": [
    "msft['DAY']=pd.to_datetime(msft.Date, format=\"%Y/%m/%d\").dt.day\n",
    "\n",
    "msft['month']=pd.to_datetime(msft['Date'], format='%Y/%m/%d').dt.month\n",
    "\n",
    "msft['YEAR']=pd.to_datetime(msft['Date'], format='%Y/%m/%d').dt.year"
   ]
  },
  {
   "cell_type": "code",
   "execution_count": 116,
   "metadata": {},
   "outputs": [],
   "source": [
    "msft.drop(['Date'],axis=1,inplace=True)"
   ]
  },
  {
   "cell_type": "code",
   "execution_count": 117,
   "metadata": {},
   "outputs": [
    {
     "data": {
      "text/html": [
       "<div>\n",
       "<style scoped>\n",
       "    .dataframe tbody tr th:only-of-type {\n",
       "        vertical-align: middle;\n",
       "    }\n",
       "\n",
       "    .dataframe tbody tr th {\n",
       "        vertical-align: top;\n",
       "    }\n",
       "\n",
       "    .dataframe thead th {\n",
       "        text-align: right;\n",
       "    }\n",
       "</style>\n",
       "<table border=\"1\" class=\"dataframe\">\n",
       "  <thead>\n",
       "    <tr style=\"text-align: right;\">\n",
       "      <th></th>\n",
       "      <th>Open</th>\n",
       "      <th>High</th>\n",
       "      <th>Low</th>\n",
       "      <th>Close</th>\n",
       "      <th>Adj Close</th>\n",
       "      <th>Volume</th>\n",
       "      <th>DAY</th>\n",
       "      <th>month</th>\n",
       "      <th>YEAR</th>\n",
       "    </tr>\n",
       "  </thead>\n",
       "  <tbody>\n",
       "    <tr>\n",
       "      <th>0</th>\n",
       "      <td>0.088542</td>\n",
       "      <td>0.101563</td>\n",
       "      <td>0.088542</td>\n",
       "      <td>0.097222</td>\n",
       "      <td>0.061751</td>\n",
       "      <td>1031788800</td>\n",
       "      <td>13</td>\n",
       "      <td>3</td>\n",
       "      <td>1986</td>\n",
       "    </tr>\n",
       "    <tr>\n",
       "      <th>1</th>\n",
       "      <td>0.097222</td>\n",
       "      <td>0.102431</td>\n",
       "      <td>0.097222</td>\n",
       "      <td>0.100694</td>\n",
       "      <td>0.063956</td>\n",
       "      <td>308160000</td>\n",
       "      <td>14</td>\n",
       "      <td>3</td>\n",
       "      <td>1986</td>\n",
       "    </tr>\n",
       "    <tr>\n",
       "      <th>2</th>\n",
       "      <td>0.100694</td>\n",
       "      <td>0.103299</td>\n",
       "      <td>0.100694</td>\n",
       "      <td>0.102431</td>\n",
       "      <td>0.065059</td>\n",
       "      <td>133171200</td>\n",
       "      <td>17</td>\n",
       "      <td>3</td>\n",
       "      <td>1986</td>\n",
       "    </tr>\n",
       "    <tr>\n",
       "      <th>3</th>\n",
       "      <td>0.102431</td>\n",
       "      <td>0.103299</td>\n",
       "      <td>0.098958</td>\n",
       "      <td>0.099826</td>\n",
       "      <td>0.063405</td>\n",
       "      <td>67766400</td>\n",
       "      <td>18</td>\n",
       "      <td>3</td>\n",
       "      <td>1986</td>\n",
       "    </tr>\n",
       "    <tr>\n",
       "      <th>4</th>\n",
       "      <td>0.099826</td>\n",
       "      <td>0.100694</td>\n",
       "      <td>0.097222</td>\n",
       "      <td>0.098090</td>\n",
       "      <td>0.062302</td>\n",
       "      <td>47894400</td>\n",
       "      <td>19</td>\n",
       "      <td>3</td>\n",
       "      <td>1986</td>\n",
       "    </tr>\n",
       "  </tbody>\n",
       "</table>\n",
       "</div>"
      ],
      "text/plain": [
       "       Open      High       Low     Close  Adj Close      Volume  DAY  month  \\\n",
       "0  0.088542  0.101563  0.088542  0.097222   0.061751  1031788800   13      3   \n",
       "1  0.097222  0.102431  0.097222  0.100694   0.063956   308160000   14      3   \n",
       "2  0.100694  0.103299  0.100694  0.102431   0.065059   133171200   17      3   \n",
       "3  0.102431  0.103299  0.098958  0.099826   0.063405    67766400   18      3   \n",
       "4  0.099826  0.100694  0.097222  0.098090   0.062302    47894400   19      3   \n",
       "\n",
       "   YEAR  \n",
       "0  1986  \n",
       "1  1986  \n",
       "2  1986  \n",
       "3  1986  \n",
       "4  1986  "
      ]
     },
     "execution_count": 117,
     "metadata": {},
     "output_type": "execute_result"
    }
   ],
   "source": [
    "msft.head()"
   ]
  },
  {
   "cell_type": "code",
   "execution_count": 118,
   "metadata": {},
   "outputs": [],
   "source": [
    "X2=msft.loc[:,msft.columns!='Close']"
   ]
  },
  {
   "cell_type": "code",
   "execution_count": 119,
   "metadata": {},
   "outputs": [],
   "source": [
    "y2=msft['Close']"
   ]
  },
  {
   "cell_type": "code",
   "execution_count": 120,
   "metadata": {},
   "outputs": [],
   "source": [
    "X2_train,X2_test,y2_train,y2_test=train_test_split(X2,y2,test_size=0.2,random_state=0)"
   ]
  },
  {
   "cell_type": "code",
   "execution_count": 121,
   "metadata": {},
   "outputs": [
    {
     "name": "stdout",
     "output_type": "stream",
     "text": [
      "(7085, 8) (1772, 8) (7085,) (1772,)\n"
     ]
    }
   ],
   "source": [
    "print(X2_train.shape,X2_test.shape,y2_train.shape,y2_test.shape)"
   ]
  },
  {
   "cell_type": "code",
   "execution_count": 122,
   "metadata": {},
   "outputs": [],
   "source": [
    "sc2=StandardScaler().fit(X2_train)"
   ]
  },
  {
   "cell_type": "code",
   "execution_count": 123,
   "metadata": {},
   "outputs": [],
   "source": [
    "X2_train_std=sc2.transform(X2_train)"
   ]
  },
  {
   "cell_type": "code",
   "execution_count": 124,
   "metadata": {},
   "outputs": [],
   "source": [
    "X2_test_std=sc2.transform(X2_test)"
   ]
  },
  {
   "cell_type": "code",
   "execution_count": 125,
   "metadata": {},
   "outputs": [
    {
     "data": {
      "text/plain": [
       "array([[-0.10197221, -0.10840858, -0.10376951, ...,  0.70880399,\n",
       "        -1.02544085, -0.12267646],\n",
       "       [ 0.24038047,  0.23429234,  0.17641548, ..., -1.3443867 ,\n",
       "        -0.73464481, -0.31974318],\n",
       "       [-0.22056844, -0.21923667, -0.21621761, ..., -0.08965905,\n",
       "         0.42853938,  0.76412375],\n",
       "       ...,\n",
       "       [-0.21697802, -0.22301238, -0.21712442, ..., -0.08965905,\n",
       "        -0.15305271,  0.17292361],\n",
       "       [ 0.10994705,  0.12532433,  0.11265334, ..., -0.6599898 ,\n",
       "        -1.3162369 , -0.41827654],\n",
       "       [-0.55133637, -0.55346999, -0.5525983 , ...,  1.73539934,\n",
       "         1.59172357, -0.71387661]])"
      ]
     },
     "execution_count": 125,
     "metadata": {},
     "output_type": "execute_result"
    }
   ],
   "source": [
    "X2_train_std"
   ]
  },
  {
   "cell_type": "code",
   "execution_count": 126,
   "metadata": {},
   "outputs": [],
   "source": [
    "svm2=SVR(kernel='poly',degree=3,C=100,coef0=1)"
   ]
  },
  {
   "cell_type": "code",
   "execution_count": 127,
   "metadata": {},
   "outputs": [
    {
     "data": {
      "text/plain": [
       "SVR(C=100, coef0=1, kernel='poly')"
      ]
     },
     "execution_count": 127,
     "metadata": {},
     "output_type": "execute_result"
    }
   ],
   "source": [
    "svm2.fit(X2_train_std,y2_train)"
   ]
  },
  {
   "cell_type": "code",
   "execution_count": 128,
   "metadata": {},
   "outputs": [],
   "source": [
    "y2_train_pred=svm1.predict(X2_train_std)"
   ]
  },
  {
   "cell_type": "code",
   "execution_count": 129,
   "metadata": {},
   "outputs": [],
   "source": [
    "y2_test_pred=svm1.predict(X2_test_std)"
   ]
  },
  {
   "cell_type": "code",
   "execution_count": 130,
   "metadata": {},
   "outputs": [
    {
     "data": {
      "text/plain": [
       "0.02974055972788323"
      ]
     },
     "execution_count": 130,
     "metadata": {},
     "output_type": "execute_result"
    }
   ],
   "source": [
    "mean_squared_error(y2_test, y2_test_pred)"
   ]
  },
  {
   "cell_type": "code",
   "execution_count": 131,
   "metadata": {},
   "outputs": [
    {
     "data": {
      "text/plain": [
       "0.9999831003842727"
      ]
     },
     "execution_count": 131,
     "metadata": {},
     "output_type": "execute_result"
    }
   ],
   "source": [
    "r2_score(y2_test, y2_test_pred)"
   ]
  },
  {
   "cell_type": "markdown",
   "metadata": {},
   "source": [
    "# Saving model in pickle\n"
   ]
  },
  {
   "cell_type": "code",
   "execution_count": 137,
   "metadata": {},
   "outputs": [
    {
     "name": "stdout",
     "output_type": "stream",
     "text": [
      "Requirement already satisfied: joblib in /opt/anaconda3/lib/python3.8/site-packages (0.16.0)\n",
      "\u001b[33mWARNING: You are using pip version 21.1.2; however, version 21.1.3 is available.\n",
      "You should consider upgrading via the '/opt/anaconda3/bin/python3.8 -m pip install --upgrade pip' command.\u001b[0m\n"
     ]
    }
   ],
   "source": [
    "!pip install joblib\n",
    "import pickle\n",
    "import joblib\n"
   ]
  },
  {
   "cell_type": "code",
   "execution_count": 139,
   "metadata": {
    "scrolled": true
   },
   "outputs": [
    {
     "data": {
      "text/plain": [
       "['model1.pkl']"
      ]
     },
     "execution_count": 139,
     "metadata": {},
     "output_type": "execute_result"
    }
   ],
   "source": [
    "joblib.dump(svr,'model1.pkl')"
   ]
  },
  {
   "cell_type": "code",
   "execution_count": 140,
   "metadata": {},
   "outputs": [
    {
     "data": {
      "text/plain": [
       "['model2.pkl']"
      ]
     },
     "execution_count": 140,
     "metadata": {},
     "output_type": "execute_result"
    }
   ],
   "source": [
    "joblib.dump(svm1,'model2.pkl')"
   ]
  }
 ],
 "metadata": {
  "accelerator": "GPU",
  "colab": {
   "collapsed_sections": [],
   "name": "STOCK_PRICE_PREDICTION_TECHNOCOLABS222.ipynb",
   "provenance": []
  },
  "kernelspec": {
   "display_name": "Python 3",
   "language": "python",
   "name": "python3"
  },
  "language_info": {
   "codemirror_mode": {
    "name": "ipython",
    "version": 3
   },
   "file_extension": ".py",
   "mimetype": "text/x-python",
   "name": "python",
   "nbconvert_exporter": "python",
   "pygments_lexer": "ipython3",
   "version": "3.8.3"
  }
 },
 "nbformat": 4,
 "nbformat_minor": 1
}
